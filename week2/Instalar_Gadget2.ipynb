{
 "cells": [
  {
   "cell_type": "markdown",
   "metadata": {},
   "source": [
    "#Instalación de Gadget2"
   ]
  },
  {
   "cell_type": "markdown",
   "metadata": {},
   "source": [
    "Decargar Gadget2 desde http://www.mpa-garching.mpg.de/gadget/\n",
    "\n",
    "Crear un directorio de instalación\n",
    "\n",
    "    mkdir install_Gadget\n",
    "    mkdir install_Gadget/local"
   ]
  },
  {
   "cell_type": "markdown",
   "metadata": {},
   "source": [
    "Descargar la versión más reciente de la librería GSL (Gnu Scientific Library)\n",
    "\n",
    "http://mirror.cedia.org.ec/gnu/gsl/\n",
    "\n",
    "    wget http://www.mpa-garching.mpg.de/gadget/gadget-2.0.7.tar.gz\n",
    "\n",
    "Descomprimir con:\n",
    "\n",
    "    gunzip gadget-2.0.7.tar.gz\n",
    "    \n",
    "    xtar -xvf gadget-2.0.7.tar\n",
    "\n",
    "Entrar en el directorio\n",
    "\n",
    "    cd gadget-2.0.7\n",
    "    \n",
    "\n",
    "Instalar haciendo:\n",
    "\n",
    "    make\n",
    "    \n",
    "    make install"
   ]
  },
  {
   "cell_type": "markdown",
   "metadata": {},
   "source": [
    "Descargar la versión 2.1.5 de la librería FFTW (Fast Fourier Transform). Gadget no correrá con versiones posteriores\n",
    "\n",
    "\n",
    "http://www.fftw.org/download.html\n",
    "\n",
    "descomprimir, entrar al directorio e instalar. En ocasiones la máquina puede arrojar error de instalación. Lo conveniente es usar:\n",
    "\n",
    "    ./configure --prefix=PATH --enable-type-prefix --enable-mpi \n",
    "    make\n",
    "    make install\n",
    "    make clean\n",
    "    ./configure --prefix=PATH --enable-float --enable-type-prefix --enable-mpi\n",
    "    make\n",
    "    make install\n",
    "    \n",
    "Reemplazar PATH por el directorio install_Gadget/local"
   ]
  },
  {
   "cell_type": "markdown",
   "metadata": {},
   "source": [
    "Ahora ir al directorio de Gadget2.\n",
    "\n",
    "    cd\n",
    "    \n",
    "    cd /Gadget-2.0.7/Gadget2\n",
    "\n",
    "editar el Makefile\n",
    "\n",
    "    vi Makefile\n",
    "    \n",
    "Comentar la línea 43 del output HDF5\n",
    "\n",
    "    #OPT   +=  -DHAVE_HDF5  \n",
    "    \n",
    "\n",
    "Aquí se le asigna un nombre al equipo con el que estamos trabajando, se deben eliminar los equipos que no se utilizarán.\n",
    "\n",
    "Crear una línea 89:\n",
    "\n",
    "    SYSTYPE=\"Cluster_Uniandes\"\n",
    "    \n",
    "y comentar la línea 90:\n",
    "    \n",
    "    #SYSTYPE=\"MPA\"\n",
    "\n",
    "\n",
    "Luego añadir instrucciones para nuestro equipo.\n",
    "    \n",
    "    ifeq ($(SYSTYPE),\"Cluster_Uniandes\")\n",
    "    CC       =  mpicc   \n",
    "    OPTIMIZE =  -O3 -Wall\n",
    "    GSL_INCL =  -I~/installGadget/local/include\n",
    "    GSL_LIBS =  -L~/installGadget/local/lib\n",
    "    FFTW_INCL=  -I~/installGadget/local/nclude \n",
    "    FFTW_LIBS=  -L~/installGadget/local/lib \n",
    "    MPICHLIB =\n",
    "    HDF5INCL =  \n",
    "    HDF5LIB  =  \n",
    "    endif"
   ]
  },
  {
   "cell_type": "markdown",
   "metadata": {},
   "source": [
    "Guardar y hacer make\n",
    "\n",
    "    \n",
    "    make"
   ]
  },
  {
   "cell_type": "markdown",
   "metadata": {},
   "source": [
    "\n",
    "###Felicitaciones!\n",
    "\n",
    "Usted ha instalado Gadget2"
   ]
  }
 ],
 "metadata": {
  "kernelspec": {
   "display_name": "Python 2",
   "language": "python",
   "name": "python2"
  },
  "language_info": {
   "codemirror_mode": {
    "name": "ipython",
    "version": 2
   },
   "file_extension": ".py",
   "mimetype": "text/x-python",
   "name": "python",
   "nbconvert_exporter": "python",
   "pygments_lexer": "ipython2",
   "version": "2.7.9"
  }
 },
 "nbformat": 4,
 "nbformat_minor": 0
}
