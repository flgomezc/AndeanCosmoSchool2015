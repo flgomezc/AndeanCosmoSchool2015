{
 "cells": [
  {
   "cell_type": "code",
   "execution_count": 45,
   "metadata": {
    "collapsed": false
   },
   "outputs": [
    {
     "name": "stdout",
     "output_type": "stream",
     "text": [
      "Populating the interactive namespace from numpy and matplotlib\n"
     ]
    },
    {
     "name": "stderr",
     "output_type": "stream",
     "text": [
      "WARNING: pylab import has clobbered these variables: ['prod', 'Circle', 'power', 'diag', 'sinh', 'trunc', 'binomial', 'plot', 'eye', 'f', 'det', 'tan', 'product', 'roots', 'vectorize', 'sin', 'plotting', 'zeros', 'cosh', 'conjugate', 'take', 'solve', 'trace', 'beta', 'ones', 'transpose', 'cos', 'interactive', 'diff', 'invert', 'sinc', 'tanh', 'Polygon', 'reshape', 'sqrt', 'floor', 'source', 'add', 'multinomial', 'test', 'poly', 'mod', 'sign', 'gamma', 'log', 'var', 'seterr', 'flatten', 'nan', 'pi', 'exp']\n",
      "`%matplotlib` prevents importing * from pylab and numpy\n"
     ]
    }
   ],
   "source": [
    "%pylab inline\n",
    "from sympy import *\n",
    "from scipy.integrate import *"
   ]
  },
  {
   "cell_type": "markdown",
   "metadata": {},
   "source": [
    "# Exercise \n",
    "\n",
    "for a cosmology with $\\Omega_0 + \\Lambda_0 = 1.0$\n",
    "\n",
    "find $\\Delta_{coll}(a_{coll}, \\Omega_0, \\Delta_i(coll))$\n",
    "\n",
    "for different values of $0.1<\\Omega_i<1.0$\n",
    "\n",
    "and $a_{coll} = 1$\n",
    "\n",
    "take $z_i = 1000$"
   ]
  },
  {
   "cell_type": "markdown",
   "metadata": {},
   "source": [
    "We know that: \n",
    "\n",
    "$\\Delta_{coll} = \\dfrac{\\Omega(a_{coll})}{s^3_{coll}} \\left (\\dfrac{a_{coll}}{a_i} \\right )^3 (1 + \\Delta_i)$\n",
    "\n",
    "Using this equation we can find $\\Delta_{coll}$. \n",
    "\n",
    "Where $a_{i} = \\dfrac{1}{1 + z_{i}} = \\dfrac{1}{1+1000} = 0.001$\n",
    "\n",
    "and $s_{coll} =  F s_{ta}$\n",
    "\n",
    "where $s_{ta} = \\dfrac{2}{\\sqrt{3}} \\left( \\dfrac{-b_2}{b_1}\\right)^{1/2} cos \\left(  \\dfrac{\\phi - 2\\pi}{3} \\right)$\n",
    "\n",
    "where $\\phi = arccos [x/(x^2 + y^2)^{1/2}]$ , $x = -9b_1^{1/2}$\n",
    "\n",
    "$\\int \\limits_{0}^{a_{coll}} f(a) da = 2 \\dfrac{H_0}{H_i}\\int \\limits_{0}^{s_{ta} } g(s)ds$"
   ]
  },
  {
   "cell_type": "code",
   "execution_count": null,
   "metadata": {
    "collapsed": true
   },
   "outputs": [],
   "source": [
    "def sta(Deltai, Omegai, Li):\n",
    "    b1 = Li\n",
    "    b2 = (1 - Omegai)*(1- Deltai) - Li\n",
    "    b3 = Omegai*(1 + Deltai)\n",
    "    x = -9*b1**0.5*b3\n",
    "    y = [3*(-4*b2**3 - 27*b1)]"
   ]
  },
  {
   "cell_type": "code",
   "execution_count": 48,
   "metadata": {
    "collapsed": true
   },
   "outputs": [],
   "source": [
    "def f(a):\n",
    "    Omega0 = 0.1\n",
    "    L0 = 1 - Omega0\n",
    "    f = ( 1 + Omega0*(1/a  - 1) + L0*(a**2-1) )**(-0.5)\n",
    "    return f"
   ]
  },
  {
   "cell_type": "code",
   "execution_count": 49,
   "metadata": {
    "collapsed": false
   },
   "outputs": [
    {
     "name": "stdout",
     "output_type": "stream",
     "text": [
      "1.0*Integral((0.9*x**2 + 0.1/x)**(-0.5), (x, 0.0, 1))\n"
     ]
    }
   ],
   "source": [
    "x = symbols(\"x\")\n",
    "expr = integrate(f(x), (x, 0.0, 1))\n",
    "#print expr.doit()\n",
    "print expr"
   ]
  },
  {
   "cell_type": "code",
   "execution_count": 51,
   "metadata": {
    "collapsed": false
   },
   "outputs": [
    {
     "name": "stdout",
     "output_type": "stream",
     "text": [
      "(1.277873914275968, 1.0034195696562165e-12)\n"
     ]
    }
   ],
   "source": [
    "I = quad(f, 0, 1)\n",
    "print I"
   ]
  },
  {
   "cell_type": "code",
   "execution_count": null,
   "metadata": {
    "collapsed": true
   },
   "outputs": [],
   "source": []
  }
 ],
 "metadata": {
  "kernelspec": {
   "display_name": "Python 2",
   "language": "python",
   "name": "python2"
  },
  "language_info": {
   "codemirror_mode": {
    "name": "ipython",
    "version": 2
   },
   "file_extension": ".py",
   "mimetype": "text/x-python",
   "name": "python",
   "nbconvert_exporter": "python",
   "pygments_lexer": "ipython2",
   "version": "2.7.6"
  }
 },
 "nbformat": 4,
 "nbformat_minor": 0
}
