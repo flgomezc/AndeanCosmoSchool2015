{
 "cells": [
  {
   "cell_type": "code",
   "execution_count": 1,
   "metadata": {
    "collapsed": false
   },
   "outputs": [
    {
     "name": "stdout",
     "output_type": "stream",
     "text": [
      "Populating the interactive namespace from numpy and matplotlib\n"
     ]
    }
   ],
   "source": [
    "%pylab inline\n",
    "#from sympy import *\n",
    "from scipy.integrate import *"
   ]
  },
  {
   "cell_type": "code",
   "execution_count": 2,
   "metadata": {
    "collapsed": true
   },
   "outputs": [],
   "source": [
    "H_0 = 70.0 # km/s.Mpc"
   ]
  },
  {
   "cell_type": "markdown",
   "metadata": {},
   "source": [
    "# Exercise \n",
    "\n",
    "for a cosmology with $\\Omega_0 + \\Lambda_0 = 1.0$\n",
    "\n",
    "find $\\Delta_{coll}(a_{coll}, \\Omega_0, \\Delta_i(coll))$\n",
    "\n",
    "for different values of $0.1<\\Omega_i<1.0$\n",
    "\n",
    "and $a_{coll} = 1$\n",
    "\n",
    "take $z_i = 1000$"
   ]
  },
  {
   "cell_type": "markdown",
   "metadata": {},
   "source": [
    "We know that: \n",
    "\n",
    "$\\Delta_{coll} = \\dfrac{\\Omega(a_{coll})}{s^3_{coll}} \\left (\\dfrac{a_{coll}}{a_i} \\right )^3 (1 + \\Delta_i)$\n",
    "\n",
    "Using this equation we can find $\\Delta_{coll}$. \n",
    "\n",
    "Where $a_{i} = \\dfrac{1}{1 + z_{i}} = \\dfrac{1}{1+1000} = 0.001$\n",
    "\n",
    "and $s_{coll} =  F s_{ta}$\n",
    "\n",
    "where $s_{ta} = \\dfrac{2}{\\sqrt{3}} \\left( \\dfrac{-b_2}{b_1}\\right)^{1/2} cos \\left(  \\dfrac{\\phi - 2\\pi}{3} \\right)$\n",
    "\n",
    "where $\\phi = arccos [x/(x^2 + y^2)^{1/2}]$ , $x = -9b_1^{1/2}$\n",
    "\n",
    "$\\int \\limits_{0}^{a_{coll}} f(a) da = 2 \\dfrac{H_0}{H_i}\\int \\limits_{0}^{s_{ta} } g(s)ds$"
   ]
  },
  {
   "cell_type": "code",
   "execution_count": 102,
   "metadata": {
    "collapsed": true
   },
   "outputs": [],
   "source": [
    "def sta(Deltai, Omegai):\n",
    "    Li = 1-Omegai\n",
    "    b1 = Li\n",
    "    b2 = 1 - Omegai*(1+ Deltai) - Li\n",
    "    b3 = Omegai*(1 + Deltai)\n",
    "    x = -9*b1**0.5*b3\n",
    "    y = (3*(-4*b2**3 - 27*b1))\n",
    "    Phi= arccos(x/(x*x+y*y)**0.5)\n",
    "    FOO = (2.0/sqrt(3)) * (-b2/b1)**0.5 *cos((Phi-2.*pi)/3.)\n",
    "    return FOO\n",
    "\n",
    "def f(a, Omega0):\n",
    "    L0 = 1 - Omega0\n",
    "    f = ( 1 + Omega0*(1/a  - 1) + L0*(a**2-1) )**(-0.5)\n",
    "    return f\n",
    "\n",
    "def Int_fa(Omega0):\n",
    "    I = quad(f, 0, 1, args=(Omega0))\n",
    "    return I\n",
    "\n",
    "def H(z, Omega0):\n",
    "    Lambda0 = 1. - Omega0\n",
    "    return H_0*(Omega0*(1+z)**3 - (Omega0+Lambda0-1)*(1+z)**2 + Lambda0)**0.5\n",
    "\n",
    "def Omega_z(z,Omega0):\n",
    "    return Omega0 * (1+z)**3 * (H_0/H(z,Omega0))**2\n",
    "\n",
    "def Lambda_z(z, Omega0):\n",
    "    Lambda0=1.-Omega0\n",
    "    return Lambda0*(H_0/H(z,Omega0))**2\n",
    "\n",
    "def g_s(s,z,Omega0, Deltai):\n",
    "    Omegai=Omega_z(z, Omega0)\n",
    "    Lambdai=Lambda_z(z, Omega0)\n",
    "    return (1+ Omegai*(1/s-1)*(1+Deltai)+Lambdai*(s*s - 1))**-0.5\n",
    "\n",
    "def deltaicrit(Omegai):\n",
    "    Lambdai = 1-Omegai\n",
    "    q = (Lambdai*(8-Lambdai**2 + 20*Lambdai + 8*(1 - Lambdai)**(3/2.)))**(1/3.)\n",
    "    p = 1 + 5/4. * Lambdai + 3*Lambdai*(8+Lambdai)/4*q + 3*q / 4.\n",
    "    return 1/Omegai*p - 1"
   ]
  },
  {
   "cell_type": "code",
   "execution_count": 43,
   "metadata": {
    "collapsed": false
   },
   "outputs": [],
   "source": [
    "STA = sta(Delta__i,0.9999,0.0001)"
   ]
  },
  {
   "cell_type": "code",
   "execution_count": 44,
   "metadata": {
    "collapsed": false
   },
   "outputs": [
    {
     "data": {
      "text/plain": [
       "<matplotlib.text.Text at 0x7f4c48027cd0>"
      ]
     },
     "execution_count": 44,
     "metadata": {},
     "output_type": "execute_result"
    },
    {
     "data": {
      "image/png": "[encoded data removed]",
      "text/plain": [
       "<matplotlib.figure.Figure at 0x7f4c481a15d0>"
      ]
     },
     "metadata": {},
     "output_type": "display_data"
    }
   ],
   "source": [
    "plot(Delta__i,STA)\n",
    "xscale(\"log\")\n",
    "yscale(\"log\")\n",
    "xlabel(r\"$\\Delta_i$\", fontsize=20)\n",
    "ylabel(r\"$s_{ta}$\", fontsize=20)"
   ]
  },
  {
   "cell_type": "code",
   "execution_count": 111,
   "metadata": {
    "collapsed": false
   },
   "outputs": [
    {
     "data": {
      "text/plain": [
       "2.043812857342479"
      ]
     },
     "execution_count": 111,
     "metadata": {},
     "output_type": "execute_result"
    }
   ],
   "source": [
    "llblb = Omega_z(1000, 0.01)\n",
    "deltaicrit(0.9)"
   ]
  },
  {
   "cell_type": "code",
   "execution_count": 63,
   "metadata": {
    "collapsed": false
   },
   "outputs": [],
   "source": [
    "def Int_Sta_deltai(z, Deltai, Omega0):\n",
    "    Omegai = Omega_z(z, Omega0)\n",
    "    \n",
    "    Integral = quad( g_s, 0.000001, sta(Deltai,Omegai), args=(z,Omega0,Deltai))\n",
    "    return Integral\n",
    "                    "
   ]
  },
  {
   "cell_type": "code",
   "execution_count": 83,
   "metadata": {
    "collapsed": false
   },
   "outputs": [
    {
     "data": {
      "text/plain": [
       "(3132.738813476071, 1.5613477444276214e-07)"
      ]
     },
     "execution_count": 83,
     "metadata": {},
     "output_type": "execute_result"
    }
   ],
   "source": [
    "Int_Sta_deltai(1000,0.0001,0.7)\n",
    "\n",
    "# Para valores de Deltai grandes la integral no sirve. Tenemos que buscar primero la cota superior"
   ]
  },
  {
   "cell_type": "code",
   "execution_count": 97,
   "metadata": {
    "collapsed": false
   },
   "outputs": [
    {
     "name": "stdout",
     "output_type": "stream",
     "text": [
      "1e-08 3.11140744798\n",
      "2.06913808111e-08 5.3678330497\n",
      "4.28133239872e-08 9.2606424915\n",
      "8.8586679041e-08 15.9765596915\n",
      "1.83298071083e-07 27.5629378405\n",
      "3.79269019073e-07 47.5519168382\n",
      "7.84759970351e-07 82.0373105046\n",
      "1.62377673919e-06 141.532901819\n",
      "3.35981828628e-06 244.180660911\n",
      "6.95192796178e-06 421.297308551\n",
      "1.43844988829e-05 727.003743202\n",
      "2.97635144163e-05 1255.15006353\n",
      "6.15848211066e-05 2170.13770554\n",
      "0.00012742749857 3768.70048127\n",
      "0.000263665089873 6635.04032496\n",
      "0.000545559478117 12241.0544471\n",
      "0.00112883789168 28917.3577459\n",
      "0.00233572146909 nan\n",
      "0.00483293023857 nan\n",
      "0.01 nan\n"
     ]
    },
    {
     "name": "stderr",
     "output_type": "stream",
     "text": [
      "/homecolab/anaconda/lib/python2.7/site-packages/IPython/kernel/__main__.py:35: RuntimeWarning: invalid value encountered in double_scalars\n"
     ]
    }
   ],
   "source": [
    "Des = logspace(-8,-2,20)\n",
    "\n",
    "for Del in Des:\n",
    "    print Del, Int_Sta_deltai(1000,Del,0.7)[0]\n"
   ]
  },
  {
   "cell_type": "code",
   "execution_count": null,
   "metadata": {
    "collapsed": true
   },
   "outputs": [],
   "source": []
  },
  {
   "cell_type": "code",
   "execution_count": 13,
   "metadata": {
    "collapsed": false
   },
   "outputs": [
    {
     "ename": "TypeError",
     "evalue": "f() takes exactly 2 arguments (1 given)",
     "output_type": "error",
     "traceback": [
      "\u001b[1;31m---------------------------------------------------------------------------\u001b[0m",
      "\u001b[1;31mTypeError\u001b[0m                                 Traceback (most recent call last)",
      "\u001b[1;32m<ipython-input-13-a4e6aa6871f1>\u001b[0m in \u001b[0;36m<module>\u001b[1;34m()\u001b[0m\n\u001b[0;32m      5\u001b[0m \u001b[1;31m# bisection method\u001b[0m\u001b[1;33m\u001b[0m\u001b[1;33m\u001b[0m\u001b[0m\n\u001b[0;32m      6\u001b[0m \u001b[0mepsilon\u001b[0m\u001b[1;33m=\u001b[0m\u001b[1;36m1e-9\u001b[0m\u001b[1;33m\u001b[0m\u001b[0m\n\u001b[1;32m----> 7\u001b[1;33m \u001b[1;32mwhile\u001b[0m \u001b[1;33m(\u001b[0m\u001b[0mabs\u001b[0m\u001b[1;33m(\u001b[0m\u001b[0mf\u001b[0m\u001b[1;33m(\u001b[0m\u001b[0mx\u001b[0m\u001b[1;33m)\u001b[0m\u001b[1;33m)\u001b[0m\u001b[1;33m>\u001b[0m\u001b[0mepsilon\u001b[0m\u001b[1;33m)\u001b[0m\u001b[1;33m:\u001b[0m\u001b[1;33m\u001b[0m\u001b[0m\n\u001b[0m\u001b[0;32m      8\u001b[0m \u001b[1;31m#for i in range(10):\u001b[0m\u001b[1;33m\u001b[0m\u001b[1;33m\u001b[0m\u001b[0m\n\u001b[0;32m      9\u001b[0m     \u001b[1;32mif\u001b[0m \u001b[1;33m(\u001b[0m\u001b[0mf\u001b[0m\u001b[1;33m(\u001b[0m\u001b[0mx\u001b[0m\u001b[1;33m)\u001b[0m\u001b[1;33m*\u001b[0m\u001b[0mf\u001b[0m\u001b[1;33m(\u001b[0m\u001b[0mA\u001b[0m\u001b[1;33m)\u001b[0m \u001b[1;33m>\u001b[0m \u001b[1;36m0\u001b[0m  \u001b[1;33m)\u001b[0m\u001b[1;33m:\u001b[0m\u001b[1;33m\u001b[0m\u001b[0m\n",
      "\u001b[1;31mTypeError\u001b[0m: f() takes exactly 2 arguments (1 given)"
     ]
    }
   ],
   "source": [
    "A = 0.001    # s lower limit\n",
    "B = 100.0    # s upper limit\n",
    "x = (A+B)/2\n",
    "\n",
    "# bisection method\n",
    "epsilon=1e-9\n",
    "while (abs(f(x))>epsilon):\n",
    "#for i in range(10):\n",
    "    if (f(x)*f(A) > 0  ):\n",
    "        A = x\n",
    "        x = (A+B)/2\n",
    "    else:\n",
    "        B = x\n",
    "        x = (A+B)/2\n",
    "x_0 =x\n",
    "print x, f(x)"
   ]
  },
  {
   "cell_type": "code",
   "execution_count": null,
   "metadata": {
    "collapsed": true
   },
   "outputs": [],
   "source": []
  }
 ],
 "metadata": {
  "kernelspec": {
   "display_name": "Python 2",
   "language": "python",
   "name": "python2"
  },
  "language_info": {
   "codemirror_mode": {
    "name": "ipython",
    "version": 2
   },
   "file_extension": ".py",
   "mimetype": "text/x-python",
   "name": "python",
   "nbconvert_exporter": "python",
   "pygments_lexer": "ipython2",
   "version": "2.7.9"
  }
 },
 "nbformat": 4,
 "nbformat_minor": 0
}
