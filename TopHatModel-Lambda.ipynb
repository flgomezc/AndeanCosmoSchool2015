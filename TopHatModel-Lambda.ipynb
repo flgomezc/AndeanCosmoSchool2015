{
 "cells": [
  {
   "cell_type": "code",
   "execution_count": 1,
   "metadata": {
    "collapsed": false
   },
   "outputs": [
    {
     "name": "stdout",
     "output_type": "stream",
     "text": [
      "Populating the interactive namespace from numpy and matplotlib\n"
     ]
    }
   ],
   "source": [
    "%pylab inline\n",
    "#from sympy import *\n",
    "from scipy.integrate import *"
   ]
  },
  {
   "cell_type": "code",
   "execution_count": 2,
   "metadata": {
    "collapsed": true
   },
   "outputs": [],
   "source": [
    "H_0 = 70.0 # km/s.Mpc"
   ]
  },
  {
   "cell_type": "markdown",
   "metadata": {},
   "source": [
    "# Exercise \n",
    "\n",
    "for a cosmology with $\\Omega_0 + \\Lambda_0 = 1.0$\n",
    "\n",
    "find $\\Delta_{coll}(a_{coll}, \\Omega_0, \\Delta_i(coll))$\n",
    "\n",
    "for different values of $0.1<\\Omega_i<1.0$\n",
    "\n",
    "and $a_{coll} = 1$\n",
    "\n",
    "take $z_i = 1000$\n",
    "\n",
    "We know that: \n",
    "\n",
    "$\\Delta_{coll} = \\dfrac{\\Omega(a_{coll})}{s^3_{coll}} \\left (\\dfrac{a_{coll}}{a_i} \\right )^3 (1 + \\Delta_i)$\n",
    "\n",
    "Using this equation we can find $\\Delta_{coll}$. \n",
    "\n",
    "Where $a_{i} = \\dfrac{1}{1 + z_{i}} = \\dfrac{1}{1+1000} = 0.001$\n",
    "\n",
    "and $s_{coll} =  F s_{ta}$\n",
    "\n",
    "where $s_{ta} = \\dfrac{2}{\\sqrt{3}} \\left( \\dfrac{-b_2}{b_1}\\right)^{1/2} cos \\left(  \\dfrac{\\phi - 2\\pi}{3} \\right)$\n",
    "\n",
    "where $\\phi = arccos [x/(x^2 + y^2)^{1/2}]$ , $x = -9b_1^{1/2}$\n",
    "\n",
    "$\\int \\limits_{0}^{a_{coll}} f(a) da = 2 \\dfrac{H_0}{H_i}\\int \\limits_{0}^{s_{ta} } g(s)ds$"
   ]
  },
  {
   "cell_type": "code",
   "execution_count": null,
   "metadata": {
    "collapsed": true
   },
   "outputs": [],
   "source": [
    "Participantes=[\"Guido\", \"Abigail\", \"Veronica\"]\n",
    "for i in range(20):\n",
    "    print random.randint(0, 3)    \n",
    "print \"Y el ganador del viaje a Villa de Leyva es:\" ,Participantes[random.randint(0, 3)]"
   ]
  },
  {
   "cell_type": "code",
   "execution_count": 11,
   "metadata": {
    "collapsed": true
   },
   "outputs": [],
   "source": [
    "def sta(Deltai, Omegai):\n",
    "    Li = 1-Omegai\n",
    "    b1 = Li\n",
    "    b2 = 1 - Omegai*(1+ Deltai) - Li\n",
    "    b3 = Omegai*(1 + Deltai)\n",
    "    x = -9*b1**0.5*b3\n",
    "    y = (3*(-4*b2**3 - 27*b1))\n",
    "    Phi= arccos(x/(x*x+y*y)**0.5)\n",
    "    FOO = (2.0/sqrt(3)) * (-b2/b1)**0.5 *cos((Phi-2.*pi)/3.)\n",
    "    return FOO\n",
    "\n",
    "def f(a, Omega0):\n",
    "    L0 = 1 - Omega0\n",
    "    f = ( 1 + Omega0*(1/a  - 1) + L0*(a**2-1) )**(-0.5)\n",
    "    return f\n",
    "\n",
    "def Int_fa(Omega0):\n",
    "    I = quad(f, 0, 1, args=(Omega0))\n",
    "    return I\n",
    "\n",
    "def H(z, Omega0):\n",
    "    Lambda0 = 1. - Omega0\n",
    "    return H_0*(Omega0*(1+z)**3 - (Omega0+Lambda0-1)*(1+z)**2 + Lambda0)**0.5\n",
    "\n",
    "def Omega_z(z,Omega0):\n",
    "    return Omega0 * (1+z)**3 * (H_0/H(z,Omega0))**2\n",
    "\n",
    "def Lambda_z(z, Omega0):\n",
    "    Lambda0=1.-Omega0\n",
    "    return Lambda0*(H_0/H(z,Omega0))**2\n",
    "\n",
    "def g_s(s,z,Omega0, Deltai):\n",
    "    Omegai=Omega_z(z, Omega0)\n",
    "    Lambdai=Lambda_z(z, Omega0)\n",
    "    return (1+ Omegai*(1/s-1)*(1+Deltai)+Lambdai*(s*s - 1))**-0.5\n",
    "\n",
    "def deltaicrit(Omegai):\n",
    "    Lambdai = 1-Omegai\n",
    "    q = (Lambdai*(8-Lambdai**2 + 20*Lambdai + 8*(1 - Lambdai)**(3/2.)))**(1/3.)\n",
    "    p = 1 + 5/4. * Lambdai + 3*Lambdai*(8+Lambdai)/4*q + 3*q / 4.\n",
    "    return 1/Omegai*p - 1"
   ]
  },
  {
   "cell_type": "code",
   "execution_count": 5,
   "metadata": {
    "collapsed": false
   },
   "outputs": [
    {
     "data": {
      "text/plain": [
       "2.043812857342479"
      ]
     },
     "execution_count": 5,
     "metadata": {},
     "output_type": "execute_result"
    }
   ],
   "source": [
    "llblb = Omega_z(1000, 0.01)\n",
    "deltaicrit(0.9)"
   ]
  },
  {
   "cell_type": "code",
   "execution_count": 18,
   "metadata": {
    "collapsed": false
   },
   "outputs": [],
   "source": [
    "def Int_Sta_deltai(z, Deltai, Omega0):\n",
    "    Omegai = Omega_z(z, Omega0)\n",
    "    \n",
    "    Integral = quad( g_s, 0.00000, sta(Deltai,Omegai), args=(z,Omega0,Deltai))\n",
    "    return Integral\n",
    "                    "
   ]
  },
  {
   "cell_type": "code",
   "execution_count": 19,
   "metadata": {
    "collapsed": false
   },
   "outputs": [
    {
     "data": {
      "text/plain": [
       "(3132.7388134820785, 1.627677193027921e-08)"
      ]
     },
     "execution_count": 19,
     "metadata": {},
     "output_type": "execute_result"
    }
   ],
   "source": [
    "Int_Sta_deltai(1000,0.0001,0.7)\n",
    "\n",
    "# La cota inferior de Deltai está dada por deltaicrit (ec 8 en el paper)"
   ]
  },
  {
   "cell_type": "code",
   "execution_count": 20,
   "metadata": {
    "collapsed": false
   },
   "outputs": [
    {
     "name": "stdout",
     "output_type": "stream",
     "text": [
      "2.04381285734 0.0222422330553\n",
      "12.6931535351 0.00010315121092\n",
      "23.3424942128 1.86496048387e-05\n",
      "33.9918348905 6.54673925142e-06\n",
      "44.6411755683 3.07254506752e-06\n",
      "55.290516246 1.69868451051e-06\n",
      "65.9398569237 1.04346040983e-06\n",
      "76.5891976015 6.89850679143e-07\n",
      "87.2385382792 4.81475268681e-07\n",
      "97.8878789569 3.50327649654e-07\n",
      "108.537219635 2.63451748858e-07\n",
      "119.186560312 2.0349726834e-07\n",
      "129.83590099 1.60711884491e-07\n",
      "140.485241668 1.29313692466e-07\n",
      "151.134582346 1.05720599779e-07\n",
      "161.783923023 8.76290787166e-08\n",
      "172.433263701 7.35099965348e-08\n",
      "183.082604379 6.2320024514e-08\n",
      "193.731945057 5.33302223078e-08\n",
      "204.381285734 4.60199358472e-08\n"
     ]
    }
   ],
   "source": [
    "Des = linspace(deltaicrit(0.9) ,deltaicrit(0.9)*100  ,20)\n",
    "\n",
    "for Del in Des:\n",
    "    print Del, Int_Sta_deltai(1000,Del,0.7)[0]\n"
   ]
  },
  {
   "cell_type": "markdown",
   "metadata": {},
   "source": [
    "#Falta \n",
    "\n",
    "1. definir deltaicrit como el limite inferior en la biseccion\n",
    "\n",
    "2. ¿poner limite superior 100? ¿10 veces? ¿1000 veces?\n",
    "\n",
    "3. Ejecutar la biseccion"
   ]
  },
  {
   "cell_type": "code",
   "execution_count": 21,
   "metadata": {
    "collapsed": false
   },
   "outputs": [
    {
     "ename": "ValueError",
     "evalue": "negative number cannot be raised to a fractional power",
     "output_type": "error",
     "traceback": [
      "\u001b[1;31m---------------------------------------------------------------------------\u001b[0m",
      "\u001b[1;31mValueError\u001b[0m                                Traceback (most recent call last)",
      "\u001b[1;32m<ipython-input-21-b39dcc3b65d8>\u001b[0m in \u001b[0;36m<module>\u001b[1;34m()\u001b[0m\n\u001b[0;32m     10\u001b[0m \u001b[0mepsilon\u001b[0m\u001b[1;33m=\u001b[0m\u001b[1;36m1e-9\u001b[0m\u001b[1;33m\u001b[0m\u001b[0m\n\u001b[0;32m     11\u001b[0m while (abs(\n\u001b[1;32m---> 12\u001b[1;33m            \u001b[0mInt_Sta_deltai\u001b[0m\u001b[1;33m(\u001b[0m \u001b[0mzi\u001b[0m\u001b[1;33m,\u001b[0m \u001b[0mx\u001b[0m\u001b[1;33m,\u001b[0m \u001b[0mOmega0\u001b[0m\u001b[1;33m)\u001b[0m\u001b[1;33m[\u001b[0m\u001b[1;36m0\u001b[0m\u001b[1;33m]\u001b[0m\u001b[1;33m*\u001b[0m\u001b[0mH\u001b[0m\u001b[1;33m(\u001b[0m\u001b[0mzi\u001b[0m\u001b[1;33m,\u001b[0m\u001b[0mOmega0\u001b[0m\u001b[1;33m)\u001b[0m\u001b[1;33m/\u001b[0m\u001b[0mH_0\u001b[0m \u001b[1;33m-\u001b[0m \u001b[0mInt_fa\u001b[0m\u001b[1;33m(\u001b[0m\u001b[0mOmega0\u001b[0m\u001b[1;33m)\u001b[0m\u001b[1;33m\u001b[0m\u001b[0m\n\u001b[0m\u001b[0;32m     13\u001b[0m            )>epsilon):\n\u001b[0;32m     14\u001b[0m \u001b[1;33m\u001b[0m\u001b[0m\n",
      "\u001b[1;32m<ipython-input-18-1190588aaaf1>\u001b[0m in \u001b[0;36mInt_Sta_deltai\u001b[1;34m(z, Deltai, Omega0)\u001b[0m\n\u001b[0;32m      2\u001b[0m     \u001b[0mOmegai\u001b[0m \u001b[1;33m=\u001b[0m \u001b[0mOmega_z\u001b[0m\u001b[1;33m(\u001b[0m\u001b[0mz\u001b[0m\u001b[1;33m,\u001b[0m \u001b[0mOmega0\u001b[0m\u001b[1;33m)\u001b[0m\u001b[1;33m\u001b[0m\u001b[0m\n\u001b[0;32m      3\u001b[0m \u001b[1;33m\u001b[0m\u001b[0m\n\u001b[1;32m----> 4\u001b[1;33m     \u001b[0mIntegral\u001b[0m \u001b[1;33m=\u001b[0m \u001b[0mquad\u001b[0m\u001b[1;33m(\u001b[0m \u001b[0mg_s\u001b[0m\u001b[1;33m,\u001b[0m \u001b[1;36m0.00000\u001b[0m\u001b[1;33m,\u001b[0m \u001b[0msta\u001b[0m\u001b[1;33m(\u001b[0m\u001b[0mDeltai\u001b[0m\u001b[1;33m,\u001b[0m\u001b[0mOmegai\u001b[0m\u001b[1;33m)\u001b[0m\u001b[1;33m,\u001b[0m \u001b[0margs\u001b[0m\u001b[1;33m=\u001b[0m\u001b[1;33m(\u001b[0m\u001b[0mz\u001b[0m\u001b[1;33m,\u001b[0m\u001b[0mOmega0\u001b[0m\u001b[1;33m,\u001b[0m\u001b[0mDeltai\u001b[0m\u001b[1;33m)\u001b[0m\u001b[1;33m)\u001b[0m\u001b[1;33m\u001b[0m\u001b[0m\n\u001b[0m\u001b[0;32m      5\u001b[0m     \u001b[1;32mreturn\u001b[0m \u001b[0mIntegral\u001b[0m\u001b[1;33m\u001b[0m\u001b[0m\n\u001b[0;32m      6\u001b[0m \u001b[1;33m\u001b[0m\u001b[0m\n",
      "\u001b[1;32m/homecolab/anaconda/lib/python2.7/site-packages/scipy/integrate/quadpack.pyc\u001b[0m in \u001b[0;36mquad\u001b[1;34m(func, a, b, args, full_output, epsabs, epsrel, limit, points, weight, wvar, wopts, maxp1, limlst)\u001b[0m\n\u001b[0;32m    309\u001b[0m     \u001b[1;32mif\u001b[0m \u001b[1;33m(\u001b[0m\u001b[0mweight\u001b[0m \u001b[1;32mis\u001b[0m \u001b[0mNone\u001b[0m\u001b[1;33m)\u001b[0m\u001b[1;33m:\u001b[0m\u001b[1;33m\u001b[0m\u001b[0m\n\u001b[0;32m    310\u001b[0m         retval = _quad(func, a, b, args, full_output, epsabs, epsrel, limit,\n\u001b[1;32m--> 311\u001b[1;33m                        points)\n\u001b[0m\u001b[0;32m    312\u001b[0m     \u001b[1;32melse\u001b[0m\u001b[1;33m:\u001b[0m\u001b[1;33m\u001b[0m\u001b[0m\n\u001b[0;32m    313\u001b[0m         retval = _quad_weight(func, a, b, args, full_output, epsabs, epsrel,\n",
      "\u001b[1;32m/homecolab/anaconda/lib/python2.7/site-packages/scipy/integrate/quadpack.pyc\u001b[0m in \u001b[0;36m_quad\u001b[1;34m(func, a, b, args, full_output, epsabs, epsrel, limit, points)\u001b[0m\n\u001b[0;32m    374\u001b[0m     \u001b[1;32mif\u001b[0m \u001b[0mpoints\u001b[0m \u001b[1;32mis\u001b[0m \u001b[0mNone\u001b[0m\u001b[1;33m:\u001b[0m\u001b[1;33m\u001b[0m\u001b[0m\n\u001b[0;32m    375\u001b[0m         \u001b[1;32mif\u001b[0m \u001b[0minfbounds\u001b[0m \u001b[1;33m==\u001b[0m \u001b[1;36m0\u001b[0m\u001b[1;33m:\u001b[0m\u001b[1;33m\u001b[0m\u001b[0m\n\u001b[1;32m--> 376\u001b[1;33m             \u001b[1;32mreturn\u001b[0m \u001b[0m_quadpack\u001b[0m\u001b[1;33m.\u001b[0m\u001b[0m_qagse\u001b[0m\u001b[1;33m(\u001b[0m\u001b[0mfunc\u001b[0m\u001b[1;33m,\u001b[0m\u001b[0ma\u001b[0m\u001b[1;33m,\u001b[0m\u001b[0mb\u001b[0m\u001b[1;33m,\u001b[0m\u001b[0margs\u001b[0m\u001b[1;33m,\u001b[0m\u001b[0mfull_output\u001b[0m\u001b[1;33m,\u001b[0m\u001b[0mepsabs\u001b[0m\u001b[1;33m,\u001b[0m\u001b[0mepsrel\u001b[0m\u001b[1;33m,\u001b[0m\u001b[0mlimit\u001b[0m\u001b[1;33m)\u001b[0m\u001b[1;33m\u001b[0m\u001b[0m\n\u001b[0m\u001b[0;32m    377\u001b[0m         \u001b[1;32melse\u001b[0m\u001b[1;33m:\u001b[0m\u001b[1;33m\u001b[0m\u001b[0m\n\u001b[0;32m    378\u001b[0m             \u001b[1;32mreturn\u001b[0m \u001b[0m_quadpack\u001b[0m\u001b[1;33m.\u001b[0m\u001b[0m_qagie\u001b[0m\u001b[1;33m(\u001b[0m\u001b[0mfunc\u001b[0m\u001b[1;33m,\u001b[0m\u001b[0mbound\u001b[0m\u001b[1;33m,\u001b[0m\u001b[0minfbounds\u001b[0m\u001b[1;33m,\u001b[0m\u001b[0margs\u001b[0m\u001b[1;33m,\u001b[0m\u001b[0mfull_output\u001b[0m\u001b[1;33m,\u001b[0m\u001b[0mepsabs\u001b[0m\u001b[1;33m,\u001b[0m\u001b[0mepsrel\u001b[0m\u001b[1;33m,\u001b[0m\u001b[0mlimit\u001b[0m\u001b[1;33m)\u001b[0m\u001b[1;33m\u001b[0m\u001b[0m\n",
      "\u001b[1;32m<ipython-input-11-63066c72fa34>\u001b[0m in \u001b[0;36mg_s\u001b[1;34m(s, z, Omega0, Deltai)\u001b[0m\n\u001b[0;32m     33\u001b[0m     \u001b[0mOmegai\u001b[0m\u001b[1;33m=\u001b[0m\u001b[0mOmega_z\u001b[0m\u001b[1;33m(\u001b[0m\u001b[0mz\u001b[0m\u001b[1;33m,\u001b[0m \u001b[0mOmega0\u001b[0m\u001b[1;33m)\u001b[0m\u001b[1;33m\u001b[0m\u001b[0m\n\u001b[0;32m     34\u001b[0m     \u001b[0mLambdai\u001b[0m\u001b[1;33m=\u001b[0m\u001b[0mLambda_z\u001b[0m\u001b[1;33m(\u001b[0m\u001b[0mz\u001b[0m\u001b[1;33m,\u001b[0m \u001b[0mOmega0\u001b[0m\u001b[1;33m)\u001b[0m\u001b[1;33m\u001b[0m\u001b[0m\n\u001b[1;32m---> 35\u001b[1;33m     \u001b[1;32mreturn\u001b[0m \u001b[1;33m(\u001b[0m\u001b[1;36m1\u001b[0m\u001b[1;33m+\u001b[0m \u001b[0mOmegai\u001b[0m\u001b[1;33m*\u001b[0m\u001b[1;33m(\u001b[0m\u001b[1;36m1\u001b[0m\u001b[1;33m/\u001b[0m\u001b[0ms\u001b[0m\u001b[1;33m-\u001b[0m\u001b[1;36m1\u001b[0m\u001b[1;33m)\u001b[0m\u001b[1;33m*\u001b[0m\u001b[1;33m(\u001b[0m\u001b[1;36m1\u001b[0m\u001b[1;33m+\u001b[0m\u001b[0mDeltai\u001b[0m\u001b[1;33m)\u001b[0m\u001b[1;33m+\u001b[0m\u001b[0mLambdai\u001b[0m\u001b[1;33m*\u001b[0m\u001b[1;33m(\u001b[0m\u001b[0ms\u001b[0m\u001b[1;33m*\u001b[0m\u001b[0ms\u001b[0m \u001b[1;33m-\u001b[0m \u001b[1;36m1\u001b[0m\u001b[1;33m)\u001b[0m\u001b[1;33m)\u001b[0m\u001b[1;33m**\u001b[0m\u001b[1;33m-\u001b[0m\u001b[1;36m0.5\u001b[0m\u001b[1;33m\u001b[0m\u001b[0m\n\u001b[0m\u001b[0;32m     36\u001b[0m \u001b[1;33m\u001b[0m\u001b[0m\n\u001b[0;32m     37\u001b[0m \u001b[1;32mdef\u001b[0m \u001b[0mdeltaicrit\u001b[0m\u001b[1;33m(\u001b[0m\u001b[0mOmegai\u001b[0m\u001b[1;33m)\u001b[0m\u001b[1;33m:\u001b[0m\u001b[1;33m\u001b[0m\u001b[0m\n",
      "\u001b[1;31mValueError\u001b[0m: negative number cannot be raised to a fractional power"
     ]
    }
   ],
   "source": [
    "Omega0 = 0.9\n",
    "zi = 1000\n",
    "Omegai = Omega_z(1000, Omega0)\n",
    "\n",
    "A = deltaicrit(Omegai)    # s lower limit\n",
    "B = 100.0*deltaicrit(Omegai)    # s upper limit\n",
    "x = (A+B)/2\n",
    "\n",
    "# bisection method\n",
    "epsilon=1e-9\n",
    "while (abs(\n",
    "           Int_Sta_deltai( zi, x, Omega0)[0]*H(zi,Omega0)/H_0 - Int_fa(Omega0)\n",
    "           )>epsilon):\n",
    "\n",
    "    #if (f(x)*f(A) > 0  ):\n",
    "    if(\n",
    "        Int_Sta_deltai( zi, x, Omega0)[0]*H(zi,Omega0)/H_0 - Int_fa(Omega0) *\n",
    "        Int_Sta_deltai( zi, A, Omega0)[0]*H(zi,Omega0)/H_0 - Int_fa(Omega0)\n",
    "        > 0     \n",
    "        ):\n",
    "        A = x\n",
    "        x = (A+B)/2\n",
    "    else:\n",
    "        B = x\n",
    "        x = (A+B)/2\n",
    "x_0 =x\n",
    "print x"
   ]
  },
  {
   "cell_type": "code",
   "execution_count": null,
   "metadata": {
    "collapsed": true
   },
   "outputs": [],
   "source": []
  }
 ],
 "metadata": {
  "kernelspec": {
   "display_name": "Python 2",
   "language": "python",
   "name": "python2"
  },
  "language_info": {
   "codemirror_mode": {
    "name": "ipython",
    "version": 2
   },
   "file_extension": ".py",
   "mimetype": "text/x-python",
   "name": "python",
   "nbconvert_exporter": "python",
   "pygments_lexer": "ipython2",
   "version": "2.7.9"
  }
 },
 "nbformat": 4,
 "nbformat_minor": 0
}
