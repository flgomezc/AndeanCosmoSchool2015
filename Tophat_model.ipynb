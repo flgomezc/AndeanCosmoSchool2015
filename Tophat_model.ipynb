{
 "cells": [
  {
   "cell_type": "code",
   "execution_count": 2,
   "metadata": {
    "collapsed": false
   },
   "outputs": [
    {
     "name": "stdout",
     "output_type": "stream",
     "text": [
      "Populating the interactive namespace from numpy and matplotlib\n"
     ]
    }
   ],
   "source": [
    "%pylab inline\n",
    "from astropy import constants\n",
    "from astropy import units as u"
   ]
  },
  {
   "cell_type": "code",
   "execution_count": 3,
   "metadata": {
    "collapsed": false
   },
   "outputs": [],
   "source": [
    "M = 10E15\n",
    "z = 0 \n",
    "zi = 1000."
   ]
  },
  {
   "cell_type": "code",
   "execution_count": 4,
   "metadata": {
    "collapsed": true
   },
   "outputs": [],
   "source": [
    "def time():\n",
    "    H = 70 * u.km / (u.s * u.Mpc) \n",
    "    Hm = H.to(u.km / (u.s * u.km))\n",
    "    time = 2 / (3*Hm)\n",
    "    tmax = time/2.\n",
    "    return time, tmax\n",
    "\n",
    "def ti(t, z, zi):\n",
    "    ti = ((1 + z)/(1 + zi))**(3/2.)*t\n",
    "    return ti\n",
    "\n",
    "def delta0(theta, t):\n",
    "    d0 = 3/5. * (3. * t / (4. * tmax ))**(2/3.) * (theta - sin(theta)) **(2/3.)\n",
    "    return d0\n",
    "\n",
    "def deltai(zi, d0):\n",
    "    deltai = ( 5 * d0 )/ (3 * (1 + zi) )\n",
    "    return deltai"
   ]
  },
  {
   "cell_type": "code",
   "execution_count": 14,
   "metadata": {
    "collapsed": false
   },
   "outputs": [
    {
     "name": "stdout",
     "output_type": "stream",
     "text": [
      "2.93874055378e+17 s 1.46937027689e+17 s\n",
      "4.65615343654 Gyr\n"
     ]
    }
   ],
   "source": [
    "t, tmax = time()\n",
    "print t, tmax\n",
    "tmaxgyr  = tmax.to(u.Gyr) \n",
    "print tmaxgyr"
   ]
  },
  {
   "cell_type": "code",
   "execution_count": 6,
   "metadata": {
    "collapsed": false
   },
   "outputs": [
    {
     "name": "stdout",
     "output_type": "stream",
     "text": [
      "9.27919133612e+12 s\n"
     ]
    }
   ],
   "source": [
    "ti  = ti(t, z, zi)\n",
    "print ti"
   ]
  },
  {
   "cell_type": "code",
   "execution_count": 7,
   "metadata": {
    "collapsed": false
   },
   "outputs": [
    {
     "name": "stdout",
     "output_type": "stream",
     "text": [
      "1.0624096524\n"
     ]
    }
   ],
   "source": [
    "d0 = delta0(pi, tmax)\n",
    "print d0"
   ]
  },
  {
   "cell_type": "code",
   "execution_count": 8,
   "metadata": {
    "collapsed": false
   },
   "outputs": [
    {
     "name": "stdout",
     "output_type": "stream",
     "text": [
      "0.00176891384016\n"
     ]
    }
   ],
   "source": [
    "deltai = deltai(zi, d0)\n",
    "print deltai"
   ]
  },
  {
   "cell_type": "code",
   "execution_count": 9,
   "metadata": {
    "collapsed": true
   },
   "outputs": [],
   "source": [
    "deltavir = 2*pi"
   ]
  },
  {
   "cell_type": "code",
   "execution_count": null,
   "metadata": {
    "collapsed": true
   },
   "outputs": [],
   "source": []
  }
 ],
 "metadata": {
  "kernelspec": {
   "display_name": "Python 2",
   "language": "python",
   "name": "python2"
  },
  "language_info": {
   "codemirror_mode": {
    "name": "ipython",
    "version": 2
   },
   "file_extension": ".py",
   "mimetype": "text/x-python",
   "name": "python",
   "nbconvert_exporter": "python",
   "pygments_lexer": "ipython2",
   "version": "2.7.6"
  }
 },
 "nbformat": 4,
 "nbformat_minor": 0
}
