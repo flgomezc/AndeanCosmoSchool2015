{
 "cells": [
  {
   "cell_type": "code",
   "execution_count": 63,
   "metadata": {
    "collapsed": false
   },
   "outputs": [
    {
     "name": "stdout",
     "output_type": "stream",
     "text": [
      "Populating the interactive namespace from numpy and matplotlib\n"
     ]
    }
   ],
   "source": [
    "%pylab inline\n",
    "from astropy import constants as const\n",
    "from astropy import units as u"
   ]
  },
  {
   "cell_type": "markdown",
   "metadata": {},
   "source": [
    "For a EdS universe, $\\Omega_0 = 1.0$, and $z_i = 1000$\n",
    "for a Galaxy cluster with $M = 10^5 M_{odot}$ find the following \n",
    "quantities: $t_0, t_{max}, \\Delta_{vir}, \\rho_v{ir}, \\Delta(t_{max}), r_i, \\Delta_i$"
   ]
  },
  {
   "cell_type": "markdown",
   "metadata": {},
   "source": [
    "$H_0 = 70$ km/s/Mpc (1)\n",
    "\n",
    "$t_0 = 2t_{max}$ (2)\n",
    "\n",
    "\n",
    "$\\dfrac{t_i}{t} =  \\left( \\dfrac{1 + z}{1 + z_i} \\right)^{3/2}$ (3)\n",
    "\n",
    "$t = \\left( \\dfrac{3}{5} \\right)^{3/2} \\dfrac{3}{4} \\dfrac{t_0}{\\delta_0^{3/2}} (\\theta - \\sin \\theta)$ (4)\n",
    "\n",
    "$\\delta_0 = \\dfrac{3}{5} \\Delta_i (1 + z_i)$  (5)\n",
    "\n",
    "$\\Delta = \\dfrac{\\rho}{\\bar \\rho} - 1 = \\dfrac{9}{2} \\dfrac{(\\theta - \\sin \\theta )^2}{(1 - \\cos \\theta)^3} - 1$  (6)\n",
    "\n",
    "$\\bar\\rho = \\dfrac{1}{6 \\pi G t^2 }$ (7)"
   ]
  },
  {
   "cell_type": "markdown",
   "metadata": {},
   "source": [
    "And for a EdS Universe we have that \n",
    "\n",
    "$H t= \\dfrac{2}{3}$"
   ]
  },
  {
   "cell_type": "code",
   "execution_count": 106,
   "metadata": {
    "collapsed": false
   },
   "outputs": [
    {
     "name": "stdout",
     "output_type": "stream",
     "text": [
      "1e+15 solMass\n"
     ]
    }
   ],
   "source": [
    "# Defining the quantites of the system \n",
    "M = 10**15*u.Msun\n",
    "z = 0 \n",
    "zi = 1000.\n",
    "print M"
   ]
  },
  {
   "cell_type": "markdown",
   "metadata": {},
   "source": [
    "## Implementing the equations"
   ]
  },
  {
   "cell_type": "code",
   "execution_count": 65,
   "metadata": {
    "collapsed": false
   },
   "outputs": [],
   "source": [
    "def time(): # From eq 1 and 2 find t and tmax\n",
    "    H = 70 * u.km / (u.s * u.Mpc) \n",
    "    Hm = H.to(u.km / (u.s * u.km))\n",
    "    time = 2 / (3*Hm)\n",
    "    tmax = time/2.\n",
    "    return time, tmax\n",
    "\n",
    "def ti(t, z, zi): #from equation 3\n",
    "    ti = ((1 + z)/(1 + zi))**(3/2.)*t\n",
    "    return ti\n",
    "\n",
    "def delta0(theta, t0, t): # from equation 4\n",
    "    d0 = 3/5. * (3. * t0 / (4. * t ))**(2/3.) * (theta - sin(theta)) **(2/3.)\n",
    "    return d0\n",
    "\n",
    "def deltai(zi, d0):#from equation 5\n",
    "    deltai = ( 5 * d0 )/ (3 * (1 + zi) )\n",
    "    return deltai\n",
    "\n",
    "def Delta(theta):\n",
    "    Delta = ( 9/2. * (theta-sin(theta))**2 / (1- cos(theta))**3 )- 1 \n",
    "    return Delta"
   ]
  },
  {
   "cell_type": "markdown",
   "metadata": {},
   "source": [
    "# 1. $t_0$ and $t_{max}$"
   ]
  },
  {
   "cell_type": "code",
   "execution_count": 66,
   "metadata": {
    "collapsed": false
   },
   "outputs": [
    {
     "name": "stdout",
     "output_type": "stream",
     "text": [
      "2.93874055378e+17 s 1.46937027689e+17 s\n",
      "4.65615343654 Gyr 9.31230687308 Gyr\n"
     ]
    }
   ],
   "source": [
    "t, tmax = time()\n",
    "print t, tmax\n",
    "tmaxgyr  = tmax.to(u.Gyr) \n",
    "tgyr  = t.to(u.Gyr) \n",
    "\n",
    "print tmaxgyr, tgyr"
   ]
  },
  {
   "cell_type": "markdown",
   "metadata": {},
   "source": [
    "# 3. $\\Delta_{vir}$ , $rho_{vir}$"
   ]
  },
  {
   "cell_type": "markdown",
   "metadata": {},
   "source": [
    "The aim is to find $\\Delta_{max}$ which is for $\\theta = \\pi$\n",
    "the we compute $\\bar\\rho_{max}$ with eq (7). With this we can \n",
    "find $\\rho_{max}$. To find $\\rho_{vir}$ we know that $2r_{vir} = r_{max}$\n",
    "then $\\rho_{vir} = 8 r_{max}$."
   ]
  },
  {
   "cell_type": "code",
   "execution_count": 71,
   "metadata": {
    "collapsed": false
   },
   "outputs": [
    {
     "name": "stdout",
     "output_type": "stream",
     "text": [
      "4.49975332435e-06 kpc3 / (Gyr2 solMass)\n"
     ]
    }
   ],
   "source": [
    "G = const.G\n",
    "G = G.to(u.kpc**3 / (u.Msun * u.Gyr**2))\n",
    "print G"
   ]
  },
  {
   "cell_type": "code",
   "execution_count": 72,
   "metadata": {
    "collapsed": true
   },
   "outputs": [],
   "source": [
    "def mrho(t):\n",
    "    mrho  = 1 / (6*pi*G*t**2)\n",
    "    return mrho"
   ]
  },
  {
   "cell_type": "code",
   "execution_count": 73,
   "metadata": {
    "collapsed": false
   },
   "outputs": [
    {
     "name": "stdout",
     "output_type": "stream",
     "text": [
      "543.820536063 solMass / kpc3 135.955134016 solMass / kpc3\n"
     ]
    }
   ],
   "source": [
    "mrhomax = mrho(tmaxgyr)\n",
    "mrhovir = mrho(tgyr)\n",
    "print mrhomax, mrhovir"
   ]
  },
  {
   "cell_type": "code",
   "execution_count": 77,
   "metadata": {
    "collapsed": false
   },
   "outputs": [
    {
     "name": "stdout",
     "output_type": "stream",
     "text": [
      "3019.10262532 solMass / kpc3\n"
     ]
    }
   ],
   "source": [
    "rhomax = (1 + Dmax)*mrhomax\n",
    "print rhomax"
   ]
  },
  {
   "cell_type": "markdown",
   "metadata": {},
   "source": [
    "Due to $2r_{vir} = r_{max}$  then \n",
    "we know that $\\rho_{vir} = 8 r_{max}$"
   ]
  },
  {
   "cell_type": "code",
   "execution_count": 75,
   "metadata": {
    "collapsed": false
   },
   "outputs": [
    {
     "name": "stdout",
     "output_type": "stream",
     "text": [
      "24152.8210026 solMass / kpc3\n"
     ]
    }
   ],
   "source": [
    "rhovir = 8*rhomax\n",
    "print rhovir"
   ]
  },
  {
   "cell_type": "code",
   "execution_count": 82,
   "metadata": {
    "collapsed": false
   },
   "outputs": [
    {
     "name": "stdout",
     "output_type": "stream",
     "text": [
      "176.65287922\n"
     ]
    }
   ],
   "source": [
    "Deltavir = rhovir / mrhovir - 1\n",
    "print Deltavir"
   ]
  },
  {
   "cell_type": "markdown",
   "metadata": {},
   "source": [
    "## 4. $\\delta_0$ $\\delta_i$"
   ]
  },
  {
   "cell_type": "code",
   "execution_count": 91,
   "metadata": {
    "collapsed": false
   },
   "outputs": [
    {
     "name": "stdout",
     "output_type": "stream",
     "text": [
      "0.000294039829902 Gyr\n"
     ]
    }
   ],
   "source": [
    "t_i  = ti(t, z, zi)\n",
    "t_igyr = (t_i).to(u.Gyr)\n",
    "print t_igyr"
   ]
  },
  {
   "cell_type": "code",
   "execution_count": 68,
   "metadata": {
    "collapsed": false
   },
   "outputs": [
    {
     "name": "stdout",
     "output_type": "stream",
     "text": [
      "1.68647019984\n"
     ]
    }
   ],
   "source": [
    "d0 = delta0(pi, t, t/2)\n",
    "print d0"
   ]
  },
  {
   "cell_type": "code",
   "execution_count": 69,
   "metadata": {
    "collapsed": false
   },
   "outputs": [
    {
     "name": "stdout",
     "output_type": "stream",
     "text": [
      "0.00280797569071\n"
     ]
    }
   ],
   "source": [
    "deltai = deltai(zi, d0)\n",
    "print deltai"
   ]
  },
  {
   "cell_type": "code",
   "execution_count": 70,
   "metadata": {
    "collapsed": false
   },
   "outputs": [
    {
     "name": "stdout",
     "output_type": "stream",
     "text": [
      "4.55165247561\n"
     ]
    }
   ],
   "source": [
    "Dmax = Delta(pi)\n",
    "print Dmax"
   ]
  },
  {
   "cell_type": "markdown",
   "metadata": {},
   "source": [
    "## 5. $r_i$ "
   ]
  },
  {
   "cell_type": "code",
   "execution_count": 94,
   "metadata": {
    "collapsed": false
   },
   "outputs": [
    {
     "name": "stdout",
     "output_type": "stream",
     "text": [
      "1.36363407419e+11 solMass / kpc3\n"
     ]
    }
   ],
   "source": [
    "mrhoi = mrho(t_igyr)\n",
    "print mrhoi"
   ]
  },
  {
   "cell_type": "code",
   "execution_count": 96,
   "metadata": {
    "collapsed": false
   },
   "outputs": [
    {
     "name": "stdout",
     "output_type": "stream",
     "text": [
      "1.36746312552e+11 solMass / kpc3\n"
     ]
    }
   ],
   "source": [
    "rhoi = (deltai + 1)*mrhoi\n",
    "print rhoi"
   ]
  },
  {
   "cell_type": "code",
   "execution_count": 107,
   "metadata": {
    "collapsed": false
   },
   "outputs": [
    {
     "name": "stdout",
     "output_type": "stream",
     "text": [
      "12.0410748346 kpc\n"
     ]
    }
   ],
   "source": [
    "ri = (M/ (4/3. * pi * rhoi)) ** (1/3.)\n",
    "print ri"
   ]
  },
  {
   "cell_type": "markdown",
   "metadata": {},
   "source": [
    "\n",
    "# Case 2\n",
    "\n",
    "Now we study a galaxy with mass $ M = 10^{12} M_\\odot$, it has collapsed at $z=2$, also $1+z_i = 10^3$"
   ]
  },
  {
   "cell_type": "code",
   "execution_count": 122,
   "metadata": {
    "collapsed": false
   },
   "outputs": [],
   "source": [
    "M_g = 10**12 *u.Msun\n",
    "\n",
    "z_gf = 2.      # Redshift of the galaxy collapse\n",
    " \n",
    "z_gi = 1000.   # Redshift og the initial overdensity\n"
   ]
  },
  {
   "cell_type": "markdown",
   "metadata": {},
   "source": [
    "Using (3) we find the times as function of redshift."
   ]
  },
  {
   "cell_type": "code",
   "execution_count": 131,
   "metadata": {
    "collapsed": false
   },
   "outputs": [
    {
     "name": "stdout",
     "output_type": "stream",
     "text": [
      "1.79215429332 Gyr 0.000294039829902 Gyr\n"
     ]
    }
   ],
   "source": [
    "t_gf = (1/(1.+z_gf))**(3./2.)*tgyr   # Time in Gyr of galaxy collapse\n",
    "\n",
    "t_gi = (1/(1.+z_gi))**(3./2.)*tgyr   # Time in Gyr of initial overdensity\n",
    "\n",
    "print t_gf, t_gi"
   ]
  },
  {
   "cell_type": "code",
   "execution_count": null,
   "metadata": {
    "collapsed": true
   },
   "outputs": [],
   "source": []
  }
 ],
 "metadata": {
  "kernelspec": {
   "display_name": "Python 2",
   "language": "python",
   "name": "python2"
  },
  "language_info": {
   "codemirror_mode": {
    "name": "ipython",
    "version": 2
   },
   "file_extension": ".py",
   "mimetype": "text/x-python",
   "name": "python",
   "nbconvert_exporter": "python",
   "pygments_lexer": "ipython2",
   "version": "2.7.9"
  }
 },
 "nbformat": 4,
 "nbformat_minor": 0
}
