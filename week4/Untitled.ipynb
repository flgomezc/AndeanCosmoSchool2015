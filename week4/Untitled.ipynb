{
 "cells": [
  {
   "cell_type": "code",
   "execution_count": 1,
   "metadata": {
    "collapsed": false
   },
   "outputs": [
    {
     "name": "stdout",
     "output_type": "stream",
     "text": [
      "Populating the interactive namespace from numpy and matplotlib\n"
     ]
    }
   ],
   "source": [
    "%pylab inline"
   ]
  },
  {
   "cell_type": "code",
   "execution_count": 2,
   "metadata": {
    "collapsed": true
   },
   "outputs": [],
   "source": [
    "import sys\n",
    "import os\n",
    "import math\n",
    "import logging\n",
    "import galsim"
   ]
  },
  {
   "cell_type": "code",
   "execution_count": null,
   "metadata": {
    "collapsed": true
   },
   "outputs": [],
   "source": [
    "def main(argv):\n",
    "    \"\"\"\n",
    "    About as simple as it gets:\n",
    "      - Use a circular Gaussian profile for the galaxy.\n",
    "      - Convolve it by a circular Gaussian PSF.\n",
    "      - Add Gaussian noise to the image.\n",
    "    \"\"\"\n",
    "    # In non-script code, use getLogger(__name__) at module scope instead.\n",
    "    logging.basicConfig(format=\"%(message)s\", level=logging.INFO, stream=sys.stdout)\n",
    "    logger = logging.getLogger(\"demo1\") \n",
    "\n",
    "    gal_flux = 1.e5    # total counts on the image\n",
    "    gal_sigma = 2.     # arcsec\n",
    "    psf_sigma = 1.     # arcsec\n",
    "    pixel_scale = 0.2  # arcsec / pixel\n",
    "    noise = 30.        # standard deviation of the counts in each pixel\n",
    "\n",
    "    logger.info('Starting demo script 1 using:')\n",
    "    logger.info('    - circular Gaussian galaxy (flux = %.1e, sigma = %.1f),',gal_flux,gal_sigma)\n",
    "    logger.info('    - circular Gaussian PSF (sigma = %.1f),',psf_sigma)\n",
    "    logger.info('    - pixel scale = %.2f,',pixel_scale)\n",
    "    logger.info('    - Gaussian noise (sigma = %.2f).',noise)\n",
    "\n",
    "    # Define the galaxy profile\n",
    "    gal = galsim.Gaussian(flux=gal_flux, sigma=gal_sigma)\n",
    "    logger.debug('Made galaxy profile')\n",
    "\n",
    "    # Define the PSF profile\n",
    "    psf = galsim.Gaussian(flux=1., sigma=psf_sigma) # PSF flux should always = 1\n",
    "    logger.debug('Made PSF profile')\n",
    "\n",
    "    # Final profile is the convolution of these\n",
    "    # Can include any number of things in the list, all of which are convolved \n",
    "    # together to make the final flux profile.\n",
    "    final = galsim.Convolve([gal, psf])\n",
    "    logger.debug('Convolved components into final profile')\n",
    "\n",
    "    # Draw the image with a particular pixel scale, given in arcsec/pixel.\n",
    "    # The returned image has a member, added_flux, which is gives the total flux actually added to \n",
    "    # the image.  One could use this value to check if the image is large enough for some desired\n",
    "    # accuracy level.  Here, we just ignore it.\n",
    "    image = final.drawImage(scale=pixel_scale)\n",
    "    logger.debug('Made image of the profile: flux = %f, added_flux = %f',gal_flux,image.added_flux)\n",
    "\n",
    "    # Add Gaussian noise to the image with specified sigma\n",
    "    image.addNoise(galsim.GaussianNoise(sigma=noise))\n",
    "    logger.debug('Added Gaussian noise')\n",
    "\n",
    "    # Write the image to a file\n",
    "    if not os.path.isdir('output'):\n",
    "        os.mkdir('output')\n",
    "    file_name = os.path.join('output','demo1.fits')\n",
    "    # Note: if the file already exists, this will overwrite it.\n",
    "    image.write(file_name)\n",
    "    logger.info('Wrote image to %r' % file_name)  # using %r adds quotes around filename for us\n",
    "\n",
    "    results = image.FindAdaptiveMom()\n",
    "\n",
    "    logger.info('HSM reports that the image has observed shape and size:')\n",
    "    logger.info('    e1 = %.3f, e2 = %.3f, sigma = %.3f (pixels)', results.observed_shape.e1,\n",
    "                results.observed_shape.e2, results.moments_sigma)\n",
    "    logger.info('Expected values in the limit that pixel response and noise are negligible:')\n",
    "    logger.info('    e1 = %.3f, e2 = %.3f, sigma = %.3f', 0.0, 0.0, \n",
    "                math.sqrt(gal_sigma**2 + psf_sigma**2)/pixel_scale) \n",
    "\n",
    "if __name__ == \"__main__\":\n",
    "    main(sys.argv)\n"
   ]
  },
  {
   "cell_type": "code",
   "execution_count": null,
   "metadata": {
    "collapsed": true
   },
   "outputs": [],
   "source": [
    "galsim.Gaussian()"
   ]
  }
 ],
 "metadata": {
  "kernelspec": {
   "display_name": "Python 2",
   "language": "python",
   "name": "python2"
  },
  "language_info": {
   "codemirror_mode": {
    "name": "ipython",
    "version": 2
   },
   "file_extension": ".py",
   "mimetype": "text/x-python",
   "name": "python",
   "nbconvert_exporter": "python",
   "pygments_lexer": "ipython2",
   "version": "2.7.5+"
  }
 },
 "nbformat": 4,
 "nbformat_minor": 0
}
