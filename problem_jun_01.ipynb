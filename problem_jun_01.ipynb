{
 "metadata": {
  "name": "",
  "signature": "sha256:0b41ab2a2a5904d9a69bb93eb2be4ddcf6e391f9690b8903736cce9d41358d74"
 },
 "nbformat": 3,
 "nbformat_minor": 0,
 "worksheets": [
  {
   "cells": [
    {
     "cell_type": "code",
     "collapsed": false,
     "input": [
      "%pylab inline\n",
      "\n",
      "import astropy\n",
      "import astropy.constants as const\n",
      "import astropy.units as u"
     ],
     "language": "python",
     "metadata": {},
     "outputs": [
      {
       "output_type": "stream",
       "stream": "stdout",
       "text": [
        "Populating the interactive namespace from numpy and matplotlib\n"
       ]
      }
     ],
     "prompt_number": 1
    },
    {
     "cell_type": "code",
     "collapsed": false,
     "input": [
      "v = (-130*u.km/u.s).to(u.kpc/u.Gyr)\n",
      "r = 784*u.kpc\n",
      "t = 13.75 *u.Gyr\n",
      "k = v*t/r\n",
      "\n",
      "def f(x):\n",
      "    return (sin(x)*(x-sin(x)))/(1-cos(x))**3-k"
     ],
     "language": "python",
     "metadata": {},
     "outputs": [],
     "prompt_number": 2
    },
    {
     "cell_type": "code",
     "collapsed": false,
     "input": [
      "A = 0.01\n",
      "B = 2*pi-0.01\n",
      "\n",
      "x = (A+B)/2\n",
      "# bisection\n",
      "while (abs(f(x))>1e-9):\n",
      "#for i in range(10):\n",
      "    if (f(x)*f(A) > 0  ):\n",
      "        A = x\n",
      "        x = (A+B)/2\n",
      "    else:\n",
      "        B = x\n",
      "        x = (A+B)/2\n",
      "x_0 =x\n",
      "print x, f(x)"
     ],
     "language": "python",
     "metadata": {},
     "outputs": [
      {
       "output_type": "stream",
       "stream": "stdout",
       "text": [
        "4.40827683464 -6.02327521193e-10\n"
       ]
      }
     ],
     "prompt_number": 3
    },
    {
     "cell_type": "code",
     "collapsed": false,
     "input": [
      "x = linspace(0,2*pi)\n",
      "y = f(x)\n",
      "axvline(x=x_0,c='k')\n",
      "axhline(y=0,c='k')\n",
      "plot(x,y)\n",
      "ylim(-2,2)\n"
     ],
     "language": "python",
     "metadata": {},
     "outputs": [
      {
       "output_type": "stream",
       "stream": "stderr",
       "text": [
        "-c:7: RuntimeWarning: divide by zero encountered in divide\n",
        "-c:7: RuntimeWarning: invalid value encountered in divide\n"
       ]
      },
      {
       "metadata": {},
       "output_type": "pyout",
       "prompt_number": 4,
       "text": [
        "(-2, 2)"
       ]
      },
      {
       "metadata": {},
       "output_type": "display_data",
       "png": "[encoded data removed]",
       "text": [
        "<matplotlib.figure.Figure at 0x3598090>"
       ]
      }
     ],
     "prompt_number": 4
    },
    {
     "cell_type": "code",
     "collapsed": false,
     "input": [
      "x_0"
     ],
     "language": "python",
     "metadata": {},
     "outputs": [
      {
       "metadata": {},
       "output_type": "pyout",
       "prompt_number": 5,
       "text": [
        "4.4082768346427486"
       ]
      }
     ],
     "prompt_number": 5
    },
    {
     "cell_type": "markdown",
     "metadata": {},
     "source": [
      "$r = a (1-cos\\theta)$\n",
      "\n",
      "$ a = \\frac{r}{1-cos\\theta}  $"
     ]
    },
    {
     "cell_type": "code",
     "collapsed": false,
     "input": [
      "a = r / ( 1 - cos(x_0) )\n",
      "print a"
     ],
     "language": "python",
     "metadata": {},
     "outputs": [
      {
       "output_type": "stream",
       "stream": "stdout",
       "text": [
        "603.333952677 kpc\n"
       ]
      }
     ],
     "prompt_number": 6
    },
    {
     "cell_type": "code",
     "collapsed": false,
     "input": [
      "G = const.G\n",
      "Msun = const.M_sun\n",
      "\n",
      "kg_to_Msun = (1*u.kg).to(u.solMass)/u.kg\n",
      "m_to_kpc = (1*u.m).to(u.kpc)/u.m\n",
      "s_to_Gyr = (1*u.s).to(u.Gyr)/u.s\n",
      "\n",
      "\n",
      "G_msun = G * m_to_kpc**3 / ( kg_to_Msun **1 * s_to_Gyr**2)\n",
      "G_msun"
     ],
     "language": "python",
     "metadata": {},
     "outputs": [
      {
       "latex": [
        "$4.4997533 \\times 10^{-6} \\; \\mathrm{\\frac{kpc^{3}}{M_{\\odot}\\,Gyr^{2}}}$"
       ],
       "metadata": {},
       "output_type": "pyout",
       "prompt_number": 7,
       "text": [
        "<Quantity 4.499753324353496e-06 kpc3 / (Gyr2 solMass)>"
       ]
      }
     ],
     "prompt_number": 7
    },
    {
     "cell_type": "markdown",
     "metadata": {},
     "source": [
      "$ t = \\sqrt{\\frac{a^3}{GM}}(\\theta - sin\\theta)$\n",
      "\n",
      "$ \\frac{t}{(\\theta - sin\\theta)} = \\sqrt{\\frac{a^3}{GM}}$\n",
      "\n",
      "\n",
      "$ \\left( \\frac{t}{(\\theta - sin\\theta)} \\right)^2 = \\frac{a^3}{GM}$\n",
      "\n",
      "$ M  = \\frac{a^3}{G} \\left( \\frac{t}{(\\theta - sin\\theta)} \\right)^{-2}$\n",
      "\n",
      "$ M  =  \\frac{a^3(\\theta - sin\\theta)^2}{Gt^2}$"
     ]
    },
    {
     "cell_type": "code",
     "collapsed": false,
     "input": [
      "M = a**3 * ( x_0 - sin(x_0))**2 / ( G_msun * t**2 )\n",
      "M"
     ],
     "language": "python",
     "metadata": {},
     "outputs": [
      {
       "latex": [
        "$7.4232826 \\times 10^{12} \\; \\mathrm{M_{\\odot}}$"
       ],
       "metadata": {},
       "output_type": "pyout",
       "prompt_number": 8,
       "text": [
        "<Quantity 7423282572322.999 solMass>"
       ]
      }
     ],
     "prompt_number": 8
    },
    {
     "cell_type": "code",
     "collapsed": false,
     "input": [],
     "language": "python",
     "metadata": {},
     "outputs": []
    }
   ],
   "metadata": {}
  }
 ]
}