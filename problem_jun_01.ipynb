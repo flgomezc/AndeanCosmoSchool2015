{
 "cells": [
  {
   "cell_type": "code",
   "execution_count": 1,
   "metadata": {
    "collapsed": false
   },
   "outputs": [
    {
     "name": "stdout",
     "output_type": "stream",
     "text": [
      "Populating the interactive namespace from numpy and matplotlib\n"
     ]
    }
   ],
   "source": [
    "%pylab inline\n",
    "\n",
    "import astropy\n",
    "import astropy.constants as const\n",
    "import astropy.units as u"
   ]
  },
  {
   "cell_type": "code",
   "execution_count": 2,
   "metadata": {
    "collapsed": false
   },
   "outputs": [],
   "source": [
    "v = (-130*u.km/u.s).to(u.kpc/u.Gyr)\n",
    "r = 784*u.kpc\n",
    "t = 13.75 *u.Gyr\n",
    "k = v*t/r\n",
    "\n",
    "def f(x):\n",
    "    return (sin(x)*(x-sin(x)))/(1-cos(x))**3-k"
   ]
  },
  {
   "cell_type": "code",
   "execution_count": 3,
   "metadata": {
    "collapsed": false
   },
   "outputs": [
    {
     "name": "stdout",
     "output_type": "stream",
     "text": [
      "4.40827683464 -6.02327521193e-10\n"
     ]
    }
   ],
   "source": [
    "A = 0.01\n",
    "B = 2*pi-0.01\n",
    "\n",
    "x = (A+B)/2\n",
    "# bisection\n",
    "while (abs(f(x))>1e-9):\n",
    "#for i in range(10):\n",
    "    if (f(x)*f(A) > 0  ):\n",
    "        A = x\n",
    "        x = (A+B)/2\n",
    "    else:\n",
    "        B = x\n",
    "        x = (A+B)/2\n",
    "x_0 =x\n",
    "print x, f(x)"
   ]
  },
  {
   "cell_type": "code",
   "execution_count": 4,
   "metadata": {
    "collapsed": false
   },
   "outputs": [
    {
     "name": "stderr",
     "output_type": "stream",
     "text": [
      "-c:7: RuntimeWarning: divide by zero encountered in divide\n",
      "-c:7: RuntimeWarning: invalid value encountered in divide\n"
     ]
    },
    {
     "data": {
      "text/plain": [
       "(-2, 2)"
      ]
     },
     "execution_count": 4,
     "metadata": {},
     "output_type": "execute_result"
    },
    {
     "data": {
      "image/png": "[encoded data removed]",
      "text/plain": [
       "<matplotlib.figure.Figure at 0x3598090>"
      ]
     },
     "metadata": {},
     "output_type": "display_data"
    }
   ],
   "source": [
    "x = linspace(0,2*pi)\n",
    "y = f(x)\n",
    "axvline(x=x_0,c='k')\n",
    "axhline(y=0,c='k')\n",
    "plot(x,y)\n",
    "ylim(-2,2)\n"
   ]
  },
  {
   "cell_type": "code",
   "execution_count": 5,
   "metadata": {
    "collapsed": false
   },
   "outputs": [
    {
     "data": {
      "text/plain": [
       "4.4082768346427486"
      ]
     },
     "execution_count": 5,
     "metadata": {},
     "output_type": "execute_result"
    }
   ],
   "source": [
    "x_0"
   ]
  },
  {
   "cell_type": "markdown",
   "metadata": {},
   "source": [
    "$r = a (1-cos\\theta)$\n",
    "\n",
    "$ a = \\frac{r}{1-cos\\theta}  $"
   ]
  },
  {
   "cell_type": "code",
   "execution_count": 6,
   "metadata": {
    "collapsed": false
   },
   "outputs": [
    {
     "name": "stdout",
     "output_type": "stream",
     "text": [
      "603.333952677 kpc\n"
     ]
    }
   ],
   "source": [
    "a = r / ( 1 - cos(x_0) )\n",
    "print a"
   ]
  },
  {
   "cell_type": "code",
   "execution_count": 7,
   "metadata": {
    "collapsed": false
   },
   "outputs": [
    {
     "data": {
      "text/latex": [
       "$4.4997533 \\times 10^{-6} \\; \\mathrm{\\frac{kpc^{3}}{M_{\\odot}\\,Gyr^{2}}}$"
      ],
      "text/plain": [
       "<Quantity 4.499753324353496e-06 kpc3 / (Gyr2 solMass)>"
      ]
     },
     "execution_count": 7,
     "metadata": {},
     "output_type": "execute_result"
    }
   ],
   "source": [
    "G = const.G\n",
    "Msun = const.M_sun\n",
    "\n",
    "kg_to_Msun = (1*u.kg).to(u.solMass)/u.kg\n",
    "m_to_kpc = (1*u.m).to(u.kpc)/u.m\n",
    "s_to_Gyr = (1*u.s).to(u.Gyr)/u.s\n",
    "\n",
    "\n",
    "G_msun = G * m_to_kpc**3 / ( kg_to_Msun **1 * s_to_Gyr**2)\n",
    "G_msun"
   ]
  },
  {
   "cell_type": "markdown",
   "metadata": {},
   "source": [
    "$ t = \\sqrt{\\frac{a^3}{GM}}(\\theta - sin\\theta)$\n",
    "\n",
    "$ \\frac{t}{(\\theta - sin\\theta)} = \\sqrt{\\frac{a^3}{GM}}$\n",
    "\n",
    "\n",
    "$ \\left( \\frac{t}{(\\theta - sin\\theta)} \\right)^2 = \\frac{a^3}{GM}$\n",
    "\n",
    "$ M  = \\frac{a^3}{G} \\left( \\frac{t}{(\\theta - sin\\theta)} \\right)^{-2}$\n",
    "\n",
    "$ M  =  \\frac{a^3(\\theta - sin\\theta)^2}{Gt^2}$"
   ]
  },
  {
   "cell_type": "code",
   "execution_count": 8,
   "metadata": {
    "collapsed": false
   },
   "outputs": [
    {
     "data": {
      "text/latex": [
       "$7.4232826 \\times 10^{12} \\; \\mathrm{M_{\\odot}}$"
      ],
      "text/plain": [
       "<Quantity 7423282572322.999 solMass>"
      ]
     },
     "execution_count": 8,
     "metadata": {},
     "output_type": "execute_result"
    }
   ],
   "source": [
    "M = a**3 * ( x_0 - sin(x_0))**2 / ( G_msun * t**2 )\n",
    "M"
   ]
  },
  {
   "cell_type": "code",
   "execution_count": null,
   "metadata": {
    "collapsed": false
   },
   "outputs": [],
   "source": []
  }
 ],
 "metadata": {
  "kernelspec": {
   "display_name": "Python 2",
   "language": "python",
   "name": "python2"
  },
  "language_info": {
   "codemirror_mode": {
    "name": "ipython",
    "version": 2
   },
   "file_extension": ".py",
   "mimetype": "text/x-python",
   "name": "python",
   "nbconvert_exporter": "python",
   "pygments_lexer": "ipython2",
   "version": "2.7.9"
  }
 },
 "nbformat": 4,
 "nbformat_minor": 0
}
