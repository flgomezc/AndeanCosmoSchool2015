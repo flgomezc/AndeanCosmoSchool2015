{
 "cells": [
  {
   "cell_type": "code",
   "execution_count": 1,
   "metadata": {
    "collapsed": false
   },
   "outputs": [
    {
     "name": "stdout",
     "output_type": "stream",
     "text": [
      "Populating the interactive namespace from numpy and matplotlib\n"
     ]
    }
   ],
   "source": [
    "%pylab inline"
   ]
  },
  {
   "cell_type": "code",
   "execution_count": 2,
   "metadata": {
    "collapsed": true
   },
   "outputs": [],
   "source": [
    "import numpy as np\n",
    "import matplotlib.pyplot as pl\n",
    "import scipy"
   ]
  },
  {
   "cell_type": "code",
   "execution_count": 3,
   "metadata": {
    "collapsed": true
   },
   "outputs": [],
   "source": [
    "def model0(k):\n",
    "    return (200./(k+10.))**5"
   ]
  },
  {
   "cell_type": "code",
   "execution_count": 4,
   "metadata": {
    "collapsed": true
   },
   "outputs": [],
   "source": [
    "#####################################\n",
    "#                                   #\n",
    "#     Gaussian Filed Generator      #\n",
    "#                                   #\n",
    "#####################################\n",
    "\n",
    "def gen_2Dgauss(N, Lx, Ly, model):  \n",
    "\n",
    "    field = np.zeros((N,N), dtype = complex)\n",
    "\n",
    "    dkx = (2.*np.pi)/Lx\n",
    "    dky = (2.*np.pi)/Ly\n",
    "\n",
    "    for ix in range(0, N):\n",
    "        if ix <= N/2:\n",
    "            kx = ix*dkx\n",
    "        else:\n",
    "            kx = (ix-N)*dkx\n",
    "    \n",
    "        for iy in range(0, N):\n",
    "            if iy <= N/2:\n",
    "                ky = iy*dky\n",
    "            else:\n",
    "                ky = (iy-N)*dky\n",
    "        \n",
    "            kval = (kx**2 + ky**2)**0.5\n",
    "        \n",
    "            field[ix, iy] = np.random.normal(0.,(model(kval)/2.)**0.5) + np.random.normal(0.,(model(kval)/2.)**0.5)*1j\n",
    "\n",
    "    # Now we have to set \\delta(-k) = \\delta^*(k)\n",
    "    # Note that \\delta_n = \\delta_{n+N} and therefore we have to set \\delta(2dk,-dk) = \\delta^*(2dk,dk)\n",
    "    for ix in range(N/2+1, N):\n",
    "    \n",
    "        jx = N-ix\n",
    "    \n",
    "        field[ix, 0] = field[jx, 0].real - field[jx, 0].imag*1j\n",
    "        field[0, ix] = field[0, jx].real - field[0, jx].imag*1j\n",
    "\n",
    "        for iy in range(1, N):\n",
    "        \n",
    "            jy = N-iy\n",
    "        \n",
    "            field[ix, iy] = field[jx, jy].real - field[jx, jy].imag*1j\n",
    "\n",
    "    if N % 2 == 0:\n",
    "        for ix in range(1, N/2):\n",
    "            jx = N-ix\n",
    "            \n",
    "            field[N/2,ix] = field[N/2,jx].real - field[N/2,jx].imag*1j\n",
    "\n",
    "\n",
    "        kval = dkx*N/2\n",
    "        # Set the complex part to zero if there is no partner (note the factor of 2 difference)\n",
    "        field[0,N/2] = np.random.normal(0.,model(kval)**0.5) + 0.*1j;\n",
    "        field[N/2,0] = np.random.normal(0.,model(kval)**0.5) + 0.*1j;\n",
    "        \n",
    "        kval = (dkx*N/2)*(2**0.5)\n",
    "        \n",
    "        field[N/2,N/2] = np.random.normal(0.,model(kval)**0.5) + 0.*1j;\n",
    "\n",
    "    field[0,0] = 0. + 0.*1j\n",
    "    \n",
    "    return field"
   ]
  },
  {
   "cell_type": "code",
   "execution_count": 5,
   "metadata": {
    "collapsed": true
   },
   "outputs": [],
   "source": [
    "#####################################\n",
    "#                                   #\n",
    "#     Power Spectrum Calculator     #\n",
    "#                                   #\n",
    "#####################################\n",
    "\n",
    "def calc_power(N, field, dk, Nshot, Lx, Ly, norm):  \n",
    "    \n",
    "    dkx = (2.*np.pi)/Lx\n",
    "    dky = (2.*np.pi)/Ly\n",
    "    \n",
    "    V= Lx*Ly\n",
    "    \n",
    "    power  = np.zeros(N, dtype=float)\n",
    "    Nmodes = np.zeros(N, dtype=float)\n",
    "    \n",
    "    for ix in range(0,N):\n",
    "        if ix <= N/2:\n",
    "            kx = ix*dkx\n",
    "        else:\n",
    "            kx = (ix-N)*dkx\n",
    "            \n",
    "        for iy in range(0,N):\n",
    "            if iy <= N/2:\n",
    "                ky = iy*dky\n",
    "            else:\n",
    "                ky = (iy-N)*dky\n",
    "                \n",
    "            kval = (kx**2 + ky**2)**0.5\n",
    "            \n",
    "            if kval>0:\n",
    "                power[int(kval/dk)] = power[int(kval/dk)] + field[ix][iy].real**2 + field[ix][iy].imag**2 - Nshot\n",
    "                Nmodes[int(kval/dk)]= Nmodes[int(kval/dk)] + 1\n",
    "\n",
    "                \n",
    "    iNonZeros = np.where(Nmodes != 0)\n",
    "    iZeros = np.where(Nmodes ==0)\n",
    "    power[iNonZeros] = power[iNonZeros]/Nmodes[iNonZeros]\n",
    "    \n",
    "    k = np.linspace( dkx/2., (N-1)*dkx + dkx/2., num=N)\n",
    "    k[iZeros] = 0\n",
    "    \n",
    "    return V*np.trim_zeros(power)/norm, np.trim_zeros(k)"
   ]
  },
  {
   "cell_type": "code",
   "execution_count": 6,
   "metadata": {
    "collapsed": true
   },
   "outputs": [],
   "source": [
    "# \n",
    "#  Covariance Matrix Calculation\n",
    "#\n",
    "\n",
    "PowerSpect = []\n",
    "\n",
    "Lx = 1.\n",
    "Ly = 1.\n",
    "V = Lx*Ly\n",
    "N = 101\n",
    "dk = (2.*np.pi)/Lx\n",
    "Normaliz = 1.0\n",
    "\n",
    "N = 100\n",
    "\n",
    "\n",
    "PowerSpect = []\n",
    "for i in range(N):\n",
    "    kspace_field = gen_2Dgauss(N, Lx, Ly, model0)    \n",
    "    config_field = np.fft.ifft2(kspace_field)*kspace_field.size**0.5\n",
    "    power, k = calc_power(N, kspace_field, dk, 0.0 , Lx, Ly, Normaliz)\n",
    "    PowerSpect.append(power)\n",
    "PowerSpect = np.array(PowerSpect)\n",
    "\n",
    "PowerAverage = np.zeros(70)\n",
    "\n",
    "for i in range(70):\n",
    "    PowerAverage[i] =  average(PowerSpect[:,i])\n",
    "    \n",
    "    \n",
    "CovarianceMatrix = np.zeros([70,70])\n",
    "\n",
    "\n",
    "\n",
    "for i in range(70):\n",
    "    for j in range(70):\n",
    "        aux = 0\n",
    "        for n in range(N):\n",
    "            aux += ( PowerSpect[n][i]-PowerAverage[i])*(PowerSpect[n][j]-PowerAverage[j])\n",
    "            \n",
    "        CovarianceMatrix[i][j]= aux/(N-1)\n",
    "        \n",
    "Cinv = linalg.inv(CovarianceMatrix)\n",
    "\n"
   ]
  },
  {
   "cell_type": "code",
   "execution_count": 7,
   "metadata": {
    "collapsed": true
   },
   "outputs": [],
   "source": [
    "data = model0(k)"
   ]
  },
  {
   "cell_type": "markdown",
   "metadata": {},
   "source": [
    "#Model:\n",
    "\n",
    "\n",
    "$P(k) = \\left[ \\frac{200}{k+10} \\right]^5 $\n",
    "\n",
    "#Parameterization\n",
    "\n",
    "$P(k) = \\left[ \\frac{A}{k+B} \\right]^5 $\n"
   ]
  },
  {
   "cell_type": "code",
   "execution_count": 8,
   "metadata": {
    "collapsed": true
   },
   "outputs": [],
   "source": [
    "def f(k,A,B):\n",
    "    return (A/(k+B))**5."
   ]
  },
  {
   "cell_type": "code",
   "execution_count": 9,
   "metadata": {
    "collapsed": true
   },
   "outputs": [],
   "source": [
    "def likelihood(Data, Model):\n",
    "    chi2 = 0\n",
    "    for i in range(Data.size):\n",
    "        chi2 += (Data[i]-Model[i])**2 * Cinv[i,i]\n",
    "    return exp(-chi2), chi2"
   ]
  },
  {
   "cell_type": "code",
   "execution_count": null,
   "metadata": {
    "collapsed": false,
    "scrolled": true
   },
   "outputs": [
    {
     "name": "stdout",
     "output_type": "stream",
     "text": [
      "0\n",
      "10000\n",
      "20000\n",
      "30000\n",
      "40000\n",
      "50000\n",
      "60000\n",
      "70000\n",
      "80000"
     ]
    }
   ],
   "source": [
    "A = 180\n",
    "B = 12\n",
    "\n",
    "Model = f(k,A,B)\n",
    "\n",
    "L = likelihood(data,Model)\n",
    "\n",
    "MCsteps = 100000\n",
    "\n",
    "MCMC_steps = []\n",
    "\n",
    "\n",
    "\n",
    "for step in range(MCsteps):\n",
    "    A_new = np.random.normal(A,0.1)\n",
    "    B_new = np.random.normal(B,0.1)\n",
    "    \n",
    "    Model_new = f(k,A_new,B_new)\n",
    "    \n",
    "    L_new = likelihood(data,Model_new)\n",
    "    \n",
    "    \n",
    "    if ( L_new[1]/L[1] <1 ):\n",
    "        A = A_new\n",
    "        B = B_new\n",
    "    else:\n",
    "        p = random.rand(1)[0]\n",
    "        if ( exp( - L_new[1]+L[1] )> p):\n",
    "            A = A_new\n",
    "            B = B_new\n",
    "    MCMC_steps.append([A,B,L_new[1]])\n",
    "    if (step%10000==0):\n",
    "        print step"
   ]
  },
  {
   "cell_type": "code",
   "execution_count": 33,
   "metadata": {
    "collapsed": false,
    "scrolled": true
   },
   "outputs": [],
   "source": [
    "MCMC_steps = array(MCMC_steps)"
   ]
  },
  {
   "cell_type": "code",
   "execution_count": 34,
   "metadata": {
    "collapsed": false
   },
   "outputs": [],
   "source": [
    "A_walk = MCMC_steps[:,0]\n",
    "B_walk = MCMC_steps[:,1]\n",
    "L_walk = MCMC_steps[:,2]"
   ]
  },
  {
   "cell_type": "code",
   "execution_count": 35,
   "metadata": {
    "collapsed": false
   },
   "outputs": [
    {
     "data": {
      "image/png": "[encoded data removed]",
      "text/plain": [
       "<matplotlib.figure.Figure at 0x106fbbed0>"
      ]
     },
     "metadata": {},
     "output_type": "display_data"
    }
   ],
   "source": [
    "scatter(A_walk,L_walk, s=0.01)\n",
    "yscale('log')"
   ]
  },
  {
   "cell_type": "code",
   "execution_count": 36,
   "metadata": {
    "collapsed": false
   },
   "outputs": [
    {
     "data": {
      "image/png": "[encoded data removed]",
      "text/plain": [
       "<matplotlib.figure.Figure at 0x107515490>"
      ]
     },
     "metadata": {},
     "output_type": "display_data"
    }
   ],
   "source": [
    "scatter(B_walk,L_walk, s=0.01)\n",
    "yscale('log')"
   ]
  },
  {
   "cell_type": "code",
   "execution_count": 30,
   "metadata": {
    "collapsed": false
   },
   "outputs": [
    {
     "data": {
      "text/plain": [
       "(array([  1945.,   5394.,   8918.,  10626.,  12857.,  14040.,  14363.,\n",
       "         13892.,  12496.,   5469.]),\n",
       " array([ 173.03815794,  183.10720267,  193.1762474 ,  203.24529213,\n",
       "         213.31433686,  223.38338159,  233.45242632,  243.52147105,\n",
       "         253.59051578,  263.65956051,  273.72860524]),\n",
       " <a list of 10 Patch objects>)"
      ]
     },
     "execution_count": 30,
     "metadata": {},
     "output_type": "execute_result"
    },
    {
     "data": {
      "image/png": "[encoded data removed]",
      "text/plain": [
       "<matplotlib.figure.Figure at 0x107b90e90>"
      ]
     },
     "metadata": {},
     "output_type": "display_data"
    }
   ],
   "source": [
    "hist(A_walk)"
   ]
  },
  {
   "cell_type": "code",
   "execution_count": 31,
   "metadata": {
    "collapsed": false
   },
   "outputs": [
    {
     "data": {
      "text/plain": [
       "(array([  7860.,  12326.,  12900.,   9734.,  11678.,  12550.,  10387.,\n",
       "         10148.,   9810.,   2607.]),\n",
       " array([   0.69158484,   12.10776854,   23.52395223,   34.94013592,\n",
       "          46.35631961,   57.7725033 ,   69.18868699,   80.60487068,\n",
       "          92.02105437,  103.43723806,  114.85342176]),\n",
       " <a list of 10 Patch objects>)"
      ]
     },
     "execution_count": 31,
     "metadata": {},
     "output_type": "execute_result"
    },
    {
     "data": {
      "image/png": "[encoded data removed]",
      "text/plain": [
       "<matplotlib.figure.Figure at 0x1070c3510>"
      ]
     },
     "metadata": {},
     "output_type": "display_data"
    }
   ],
   "source": [
    "hist(B_walk)"
   ]
  },
  {
   "cell_type": "code",
   "execution_count": null,
   "metadata": {
    "collapsed": true
   },
   "outputs": [],
   "source": []
  }
 ],
 "metadata": {
  "kernelspec": {
   "display_name": "Python 2",
   "language": "python",
   "name": "python2"
  },
  "language_info": {
   "codemirror_mode": {
    "name": "ipython",
    "version": 2
   },
   "file_extension": ".py",
   "mimetype": "text/x-python",
   "name": "python",
   "nbconvert_exporter": "python",
   "pygments_lexer": "ipython2",
   "version": "2.7.9"
  }
 },
 "nbformat": 4,
 "nbformat_minor": 0
}
