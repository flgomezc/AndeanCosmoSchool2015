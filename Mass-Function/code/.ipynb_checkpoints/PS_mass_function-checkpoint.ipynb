{
 "cells": [
  {
   "cell_type": "code",
   "execution_count": 2,
   "metadata": {
    "collapsed": false
   },
   "outputs": [
    {
     "name": "stdout",
     "output_type": "stream",
     "text": [
      "Populating the interactive namespace from numpy and matplotlib\n"
     ]
    }
   ],
   "source": [
    "%pylab inline"
   ]
  },
  {
   "cell_type": "code",
   "execution_count": 4,
   "metadata": {
    "collapsed": true
   },
   "outputs": [],
   "source": [
    "data = loadtxt(\"../data/camb_linear_matterpower_z0.dat\")\n",
    "k = data[:,0]\n",
    "P_k = data[:,1]"
   ]
  },
  {
   "cell_type": "code",
   "execution_count": 8,
   "metadata": {
    "collapsed": false
   },
   "outputs": [
    {
     "data": {
      "text/plain": [
       "<matplotlib.collections.PathCollection at 0x7fc5cf0a0850>"
      ]
     },
     "execution_count": 8,
     "metadata": {},
     "output_type": "execute_result"
    },
    {
     "data": {
      "image/png": "[encoded data removed]",
      "text/plain": [
       "<matplotlib.figure.Figure at 0x7fc5cf1ad050>"
      ]
     },
     "metadata": {},
     "output_type": "display_data"
    }
   ],
   "source": [
    "scatter(log10(k), log10(P_k))"
   ]
  },
  {
   "cell_type": "markdown",
   "metadata": {},
   "source": [
    "How to compute the P-M.\n",
    "1. Compute the sigma.\n",
    "$\\sigma_{\\Delta}^2 = \\dfrac{4\\pi}{(2\\pi)^{3/2}} \\int k^2 P(k) |W_{k}(k)|^2$\n",
    "\n",
    "2. Normalize using: $\\sigma_8 = \\sigma_{\\Delta}(R = 8Mpc/h) = 0.813$\n",
    "\n",
    "3. Derivate to find\n",
    "\n",
    "$n(M)dM = \\sqrt{\\dfrac{2}{\\pi} }\\dfrac{\\bar{\\rho}}{m^2} \\dfrac{\\delta_c}{\\sigma_m} exp \\left [ \\dfrac{-\\delta_c}{2 \\sigma_m^2} \\right ] | \\dfrac{dln\\sigma_{m}}{dlnM}|dM$"
   ]
  },
  {
   "cell_type": "code",
   "execution_count": 16,
   "metadata": {
    "collapsed": true
   },
   "outputs": [],
   "source": [
    "# Window function W_R(x)\n",
    "\n",
    "def W(r, k):\n",
    "    Wk = 3 * (sin(k*r)- k*r*cos(k*r))/ (k*r)**3\n",
    "    return Wk\n",
    "def P_k(k, n, a, b, c, Gamma, nu):\n",
    "    P = A * k**n / (1 + ( (a*k/Gamma) + (b*k/Gamma)**(3/2.) + (c*k/Gamma)**2 )**nu ) ** (1/nu)\n",
    "    return P"
   ]
  },
  {
   "cell_type": "code",
   "execution_count": 17,
   "metadata": {
    "collapsed": false
   },
   "outputs": [],
   "source": [
    "k = linspace(-100, 100, 200)\n",
    "Wk = W(10, k)"
   ]
  },
  {
   "cell_type": "code",
   "execution_count": 18,
   "metadata": {
    "collapsed": false
   },
   "outputs": [
    {
     "data": {
      "text/plain": [
       "[<matplotlib.lines.Line2D at 0x7fc5cefed650>]"
      ]
     },
     "execution_count": 18,
     "metadata": {},
     "output_type": "execute_result"
    },
    {
     "data": {
      "image/png": "[encoded data removed]",
      "text/plain": [
       "<matplotlib.figure.Figure at 0x7fc5e9a82c90>"
      ]
     },
     "metadata": {},
     "output_type": "display_data"
    }
   ],
   "source": [
    "plot(Wk)"
   ]
  },
  {
   "cell_type": "code",
   "execution_count": null,
   "metadata": {
    "collapsed": true
   },
   "outputs": [],
   "source": [
    "def sigma(r, k):\n",
    "    Pk = P_k(k)\n",
    "    Wk = W(r,K)\n",
    "    k**2*Pk*abs(Wk)**2"
   ]
  },
  {
   "cell_type": "code",
   "execution_count": 29,
   "metadata": {
    "collapsed": true
   },
   "outputs": [],
   "source": [
    "from sympy import init_printing, integrate, Symbol, exp, cos, erf, sin\n",
    "init_printing()\n",
    "x = Symbol('x')\n",
    "R = Symbol('R')\n",
    "A = Symbol('A')\n",
    "n = Symbol('n')\n",
    "a = Symbol('a')\n",
    "b = Symbol('b')\n",
    "c = Symbol('c')\n",
    "g = Symbol('g')\n",
    "m = Symbol('m')\n",
    "init_printing()"
   ]
  },
  {
   "cell_type": "code",
   "execution_count": 30,
   "metadata": {
    "collapsed": false
   },
   "outputs": [],
   "source": [
    "f = abs( 3/ (x*R) * sin(x*R) - x*R*cos(x*R) )**2 * x**2 * A * x**n / ( 1 + ( (a*x/g) + (b*x/g)**(3/2) + (c*x/g)**2 )**m )**(1/m)"
   ]
  },
  {
   "cell_type": "code",
   "execution_count": 31,
   "metadata": {
    "collapsed": false
   },
   "outputs": [
    {
     "data": {
      "image/png": "[encoded data removed]",
      "text/latex": [
       "$$A x^{2} x^{n} \\left(\\left(\\frac{a x}{g} + \\frac{b x}{g} + \\frac{c^{2} x^{2}}{g^{2}}\\right)^{m} + 1\\right)^{- \\frac{1}{m}} \\left|{R x \\cos{\\left (R x \\right )} - \\frac{3}{R x} \\sin{\\left (R x \\right )}}\\right|^{2}$$"
      ],
      "text/plain": [
       "                                  -1                              \n",
       "                                  ───                             \n",
       "                                   m                              \n",
       "        ⎛                   m    ⎞                                \n",
       "        ⎜⎛             2  2⎞     ⎟                               2\n",
       "   2  n ⎜⎜a⋅x   b⋅x   c ⋅x ⎟     ⎟    │               3⋅sin(R⋅x)│ \n",
       "A⋅x ⋅x ⋅⎜⎜─── + ─── + ─────⎟  + 1⎟   ⋅│R⋅x⋅cos(R⋅x) - ──────────│ \n",
       "        ⎜⎜ g     g       2 ⎟     ⎟    │                  R⋅x    │ \n",
       "        ⎝⎝              g  ⎠     ⎠                                "
      ]
     },
     "execution_count": 31,
     "metadata": {},
     "output_type": "execute_result"
    }
   ],
   "source": [
    "f"
   ]
  },
  {
   "cell_type": "code",
   "execution_count": null,
   "metadata": {
    "collapsed": false
   },
   "outputs": [],
   "source": [
    "integrate(f,x)"
   ]
  },
  {
   "cell_type": "code",
   "execution_count": null,
   "metadata": {
    "collapsed": true
   },
   "outputs": [],
   "source": []
  },
  {
   "cell_type": "code",
   "execution_count": null,
   "metadata": {
    "collapsed": true
   },
   "outputs": [],
   "source": []
  }
 ],
 "metadata": {
  "kernelspec": {
   "display_name": "Python 2",
   "language": "python",
   "name": "python2"
  },
  "language_info": {
   "codemirror_mode": {
    "name": "ipython",
    "version": 2
   },
   "file_extension": ".py",
   "mimetype": "text/x-python",
   "name": "python",
   "nbconvert_exporter": "python",
   "pygments_lexer": "ipython2",
   "version": "2.7.6"
  }
 },
 "nbformat": 4,
 "nbformat_minor": 0
}
