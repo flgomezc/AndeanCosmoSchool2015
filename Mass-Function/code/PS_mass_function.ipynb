{
 "cells": [
  {
   "cell_type": "code",
   "execution_count": 109,
   "metadata": {
    "collapsed": false
   },
   "outputs": [
    {
     "name": "stdout",
     "output_type": "stream",
     "text": [
      "Populating the interactive namespace from numpy and matplotlib\n"
     ]
    }
   ],
   "source": [
    "%pylab inline\n",
    "from scipy.integrate import quad\n",
    "from scipy.misc import derivative"
   ]
  },
  {
   "cell_type": "code",
   "execution_count": 110,
   "metadata": {
    "collapsed": true
   },
   "outputs": [],
   "source": [
    "data = loadtxt(\"../data/camb_linear_matterpower_z0.dat\")\n",
    "k = data[:,0]\n",
    "P_k = data[:,1]"
   ]
  },
  {
   "cell_type": "code",
   "execution_count": 111,
   "metadata": {
    "collapsed": false
   },
   "outputs": [
    {
     "data": {
      "text/plain": [
       "<matplotlib.collections.PathCollection at 0x7facd88dff10>"
      ]
     },
     "execution_count": 111,
     "metadata": {},
     "output_type": "execute_result"
    },
    {
     "data": {
      "image/png": "[encoded data removed]",
      "text/plain": [
       "<matplotlib.figure.Figure at 0x7facd89618d0>"
      ]
     },
     "metadata": {},
     "output_type": "display_data"
    }
   ],
   "source": [
    "scatter(log10(k), log10(P_k))"
   ]
  },
  {
   "cell_type": "markdown",
   "metadata": {},
   "source": [
    "How to compute the P-M.\n",
    "1. Compute the sigma.\n",
    "$\\sigma_{\\Delta}^2 = \\dfrac{4\\pi}{(2\\pi)^{3/2}} \\int k^2 P(k) |W_{k}(k)|^2$\n",
    "\n",
    "2. Normalize using: $\\sigma_8 = \\sigma_{\\Delta}(R = 8Mpc/h) = 0.813$\n",
    "\n",
    "3. Derivate to find\n",
    "\n",
    "$n(M)dM = \\sqrt{\\dfrac{2}{\\pi} }\\dfrac{\\bar{\\rho}}{M^2} \\dfrac{\\delta_c}{\\sigma_M} exp \\left [ \\dfrac{-\\delta_c^2}{2 \\sigma_M^2} \\right ] | \\dfrac{dln\\sigma_{M}}{dlnM}|dM$"
   ]
  },
  {
   "cell_type": "code",
   "execution_count": 197,
   "metadata": {
    "collapsed": true
   },
   "outputs": [],
   "source": [
    "# Window function W_R(x)\n",
    "\n",
    "def W(r, k):\n",
    "    Wk = 3 * (sin(k*r)- k*r*cos(k*r))/ (k*r)**3\n",
    "    return Wk\n",
    "def P_k(k):\n",
    "    n = 1.0\n",
    "    a = 6.4\n",
    "    b = 3.0\n",
    "    c = 1.7\n",
    "    nu = 1.13\n",
    "    Gamma = 0.21\n",
    "    A = 1\n",
    "    P = A * k**n / (1 + ( (a*k/Gamma) + (b*k/Gamma)**(3/2.) + (c*k/Gamma)**2 )**nu ) ** (1/nu)\n",
    "    return P"
   ]
  },
  {
   "cell_type": "code",
   "execution_count": 198,
   "metadata": {
    "collapsed": false
   },
   "outputs": [
    {
     "name": "stderr",
     "output_type": "stream",
     "text": [
      "/usr/local/lib/python2.7/dist-packages/IPython/kernel/__main__.py:4: RuntimeWarning: invalid value encountered in divide\n"
     ]
    }
   ],
   "source": [
    "k = linspace(0, 500, 50)\n",
    "Wk = W(10, k)"
   ]
  },
  {
   "cell_type": "code",
   "execution_count": 199,
   "metadata": {
    "collapsed": false
   },
   "outputs": [
    {
     "data": {
      "text/plain": [
       "[<matplotlib.lines.Line2D at 0x7facd817de90>]"
      ]
     },
     "execution_count": 199,
     "metadata": {},
     "output_type": "execute_result"
    },
    {
     "data": {
      "image/png": "[encoded data removed]",
      "text/plain": [
       "<matplotlib.figure.Figure at 0x7facd837ea50>"
      ]
     },
     "metadata": {},
     "output_type": "display_data"
    }
   ],
   "source": [
    "plot(Wk)"
   ]
  },
  {
   "cell_type": "code",
   "execution_count": 200,
   "metadata": {
    "collapsed": true
   },
   "outputs": [],
   "source": [
    "def sigma(x, r):\n",
    "    Pk = P_k(x)\n",
    "    Wk = W(r,x)\n",
    "    return x**2.*Pk*abs(Wk)**2"
   ]
  },
  {
   "cell_type": "code",
   "execution_count": 201,
   "metadata": {
    "collapsed": false
   },
   "outputs": [
    {
     "name": "stdout",
     "output_type": "stream",
     "text": [
      "(0.00010541599268797837, 1.3738326392199262e-08)\n",
      "8.41097930274e-05 0.00917113913467\n",
      "0.00917113913467\n",
      "89.0838082383\n"
     ]
    }
   ],
   "source": [
    "r = 8\n",
    "f = quad(sigma, 0, inf, args=r)\n",
    "print f\n",
    "Sigmad2 =  4*pi / (2.*pi)**(3/2.) * f[0]\n",
    "Sigmad = sqrt(Sigmad2)\n",
    "print Sigmad2, Sigmad\n",
    "\n",
    "sigma8 = 0.817\n",
    "print Sigmad\n",
    "A =  sqrt(sigma8**2 / Sigmad2)\n",
    "\n",
    "print A"
   ]
  },
  {
   "cell_type": "markdown",
   "metadata": {},
   "source": [
    "# Computing $\\bar \\rho_{vir}$"
   ]
  },
  {
   "cell_type": "markdown",
   "metadata": {},
   "source": [
    "We have from EdS model that we have that $\\Delta_{vir} = 176.652$ and $\\rho_{vir} = 24152.821 M_{\\odot} / kpc^3$\n"
   ]
  },
  {
   "cell_type": "code",
   "execution_count": 169,
   "metadata": {
    "collapsed": true
   },
   "outputs": [],
   "source": [
    "def rhomv(rho, Delta):\n",
    "    rhomv = rho/(Delta + 1)\n",
    "    return rhomv"
   ]
  },
  {
   "cell_type": "code",
   "execution_count": 308,
   "metadata": {
    "collapsed": false
   },
   "outputs": [
    {
     "name": "stdout",
     "output_type": "stream",
     "text": [
      "2.70479300292e+14\n"
     ]
    }
   ],
   "source": [
    "rhomv(24152.821, 176.652)\n",
    "M = 4/3. * (8000./0.7)**3 * 135.9\n",
    "print M "
   ]
  },
  {
   "cell_type": "markdown",
   "metadata": {},
   "source": [
    "# The derivative term:\n",
    "can be expressed as $| \\dfrac{dln\\sigma_M}{dlnM}| = |\\dfrac{M}{\\sigma} \\dfrac{d\\sigma_M}{dM}| $ "
   ]
  },
  {
   "cell_type": "code",
   "execution_count": 215,
   "metadata": {
    "collapsed": false
   },
   "outputs": [],
   "source": [
    "def f(k, M):\n",
    "    n = 1.0\n",
    "    a = 6.4\n",
    "    b = 3.0\n",
    "    c = 1.7\n",
    "    nu = 1.13\n",
    "    Gamma = 0.21\n",
    "    A = 89.08\n",
    "    rhom = 135.055\n",
    "    r = (3*M / (4*pi*rhom) )**(1/3.)\n",
    "    Wk = 3 * (sin(k*r)- k*r*cos(k*r))/ (k*r)**3\n",
    "    P = A * k**n / (1 + ( (a*k/Gamma) + (b*k/Gamma)**(3/2.) + (c*k/Gamma)**2 )**nu ) ** (1/nu)\n",
    "    f = k**2 * P * abs(Wk)**2\n",
    "    f1 = sqrt(4*pi / (2*pi**(3/2.)) * f )\n",
    "    return f1"
   ]
  },
  {
   "cell_type": "code",
   "execution_count": 287,
   "metadata": {
    "collapsed": false
   },
   "outputs": [],
   "source": [
    "def sigma1(M):\n",
    "    I = quad(f, 0, inf, args=M)\n",
    "    return I[0]"
   ]
  },
  {
   "cell_type": "code",
   "execution_count": 288,
   "metadata": {
    "collapsed": false
   },
   "outputs": [
    {
     "data": {
      "image/png": "[encoded data removed]",
      "text/latex": [
       "$$1.15205049239e-05$$"
      ],
      "text/plain": [
       "1.15205049239e-05"
      ]
     },
     "execution_count": 288,
     "metadata": {},
     "output_type": "execute_result"
    }
   ],
   "source": [
    "sigma1(10**12)"
   ]
  },
  {
   "cell_type": "code",
   "execution_count": 296,
   "metadata": {
    "collapsed": false
   },
   "outputs": [],
   "source": [
    "sigmafunc = zeros(10000)\n",
    "M = logspace(10, 15,10000)\n",
    "for i in range(len(M)):\n",
    "    sigmafunc[i] = log10(sigma1(M[i]))"
   ]
  },
  {
   "cell_type": "code",
   "execution_count": 297,
   "metadata": {
    "collapsed": false
   },
   "outputs": [
    {
     "data": {
      "text/plain": [
       "[<matplotlib.lines.Line2D at 0x7facd73c2c50>]"
      ]
     },
     "execution_count": 297,
     "metadata": {},
     "output_type": "execute_result"
    },
    {
     "data": {
      "image/png": "[encoded data removed]",
      "text/plain": [
       "<matplotlib.figure.Figure at 0x7facd749a7d0>"
      ]
     },
     "metadata": {},
     "output_type": "display_data"
    }
   ],
   "source": [
    "#index = where(M == nan)\n",
    "#M1 = M(index)\n",
    "#sigmafunc1 = sigmafunc(index)\n",
    "plot(M, sigmafunc)"
   ]
  },
  {
   "cell_type": "code",
   "execution_count": 300,
   "metadata": {
    "collapsed": false
   },
   "outputs": [
    {
     "data": {
      "text/plain": [
       "[<matplotlib.lines.Line2D at 0x7facd72523d0>]"
      ]
     },
     "execution_count": 300,
     "metadata": {},
     "output_type": "execute_result"
    },
    {
     "data": {
      "image/png": "[encoded data removed]",
      "text/plain": [
       "<matplotlib.figure.Figure at 0x7facd7266cd0>"
      ]
     },
     "metadata": {},
     "output_type": "display_data"
    }
   ],
   "source": [
    "h = M[1] - M[0]\n",
    "f_prime_diff = (sigmafunc[2:-1] - sigmafunc[0:-3])/(2*h)\n",
    "plot(M[1:-2], f_prime_diff)"
   ]
  },
  {
   "cell_type": "code",
   "execution_count": null,
   "metadata": {
    "collapsed": false
   },
   "outputs": [],
   "source": [
    "M = logspace(10, 15, 10000)\n",
    "rmv = rhomv(24152.821, 176.652)\n",
    "Mddd = []\n",
    "for i in range(len(M)):\n",
    "    Mdnm = sqrt(2 / pi) * rmv / M[i] * 1.68 / sigma1(M[i]) * exp(-sigma1(M[i])**2 / 1.68**2) * log10(sigma1(M[i])) / log10(M[i])\n",
    "    Mddd.append(Mdnm)\n",
    "plot(M, Mddd)\n",
    "    "
   ]
  },
  {
   "cell_type": "code",
   "execution_count": 10,
   "metadata": {
    "collapsed": true
   },
   "outputs": [],
   "source": [
    "from sympy import init_printing, integrate, Symbol, exp, cos, erf, sin\n",
    "init_printing()\n",
    "x = Symbol('x')\n",
    "R = Symbol('R')\n",
    "A = Symbol('A')\n",
    "n = Symbol('n')\n",
    "a = Symbol('a')\n",
    "b = Symbol('b')\n",
    "c = Symbol('c')\n",
    "g = Symbol('g')\n",
    "m = Symbol('m')\n",
    "init_printing()"
   ]
  },
  {
   "cell_type": "code",
   "execution_count": 11,
   "metadata": {
    "collapsed": false
   },
   "outputs": [],
   "source": [
    "f = abs( 3/ (x*R) * sin(x*R) - x*R*cos(x*R) )**2 * x**2 * A * x**n / ( 1 + ( (a*x/g) + (b*x/g)**(3/2.) + (c*x/g)**2 )**m )**(1/m)"
   ]
  },
  {
   "cell_type": "code",
   "execution_count": 12,
   "metadata": {
    "collapsed": false
   },
   "outputs": [
    {
     "data": {
      "image/png": "[encoded data removed]",
      "text/latex": [
       "$$A x^{2} x^{n} \\left(\\left(\\frac{a x}{g} + \\frac{c^{2} x^{2}}{g^{2}} + \\left(\\frac{b x}{g}\\right)^{1.5}\\right)^{m} + 1\\right)^{- \\frac{1}{m}} \\left|{R x \\cos{\\left (R x \\right )} - \\frac{3}{R x} \\sin{\\left (R x \\right )}}\\right|^{2}$$"
      ],
      "text/plain": [
       "                                       -1                              \n",
       "                                       ───                             \n",
       "                                        m                              \n",
       "        ⎛                        m    ⎞                                \n",
       "        ⎜⎛       2  2        1.5⎞     ⎟                               2\n",
       "   2  n ⎜⎜a⋅x   c ⋅x    ⎛b⋅x⎞   ⎟     ⎟    │               3⋅sin(R⋅x)│ \n",
       "A⋅x ⋅x ⋅⎜⎜─── + ───── + ⎜───⎟   ⎟  + 1⎟   ⋅│R⋅x⋅cos(R⋅x) - ──────────│ \n",
       "        ⎜⎜ g       2    ⎝ g ⎠   ⎟     ⎟    │                  R⋅x    │ \n",
       "        ⎝⎝        g             ⎠     ⎠                                "
      ]
     },
     "execution_count": 12,
     "metadata": {},
     "output_type": "execute_result"
    }
   ],
   "source": [
    "f"
   ]
  },
  {
   "cell_type": "code",
   "execution_count": null,
   "metadata": {
    "collapsed": true
   },
   "outputs": [],
   "source": []
  }
 ],
 "metadata": {
  "kernelspec": {
   "display_name": "Python 2",
   "language": "python",
   "name": "python2"
  },
  "language_info": {
   "codemirror_mode": {
    "name": "ipython",
    "version": 2
   },
   "file_extension": ".py",
   "mimetype": "text/x-python",
   "name": "python",
   "nbconvert_exporter": "python",
   "pygments_lexer": "ipython2",
   "version": "2.7.6"
  }
 },
 "nbformat": 4,
 "nbformat_minor": 0
}
