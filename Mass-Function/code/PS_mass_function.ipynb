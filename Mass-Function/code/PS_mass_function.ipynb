{
 "cells": [
  {
   "cell_type": "code",
   "execution_count": 109,
   "metadata": {
    "collapsed": false
   },
   "outputs": [
    {
     "name": "stdout",
     "output_type": "stream",
     "text": [
      "Populating the interactive namespace from numpy and matplotlib\n"
     ]
    }
   ],
   "source": [
    "%pylab inline\n",
    "from scipy.integrate import quad\n",
    "from scipy.misc import derivative"
   ]
  },
  {
   "cell_type": "code",
   "execution_count": 110,
   "metadata": {
    "collapsed": true
   },
   "outputs": [],
   "source": [
    "data = loadtxt(\"../data/camb_linear_matterpower_z0.dat\")\n",
    "k = data[:,0]\n",
    "P_k = data[:,1]"
   ]
  },
  {
   "cell_type": "code",
   "execution_count": 111,
   "metadata": {
    "collapsed": false
   },
   "outputs": [
    {
     "data": {
      "text/plain": [
       "<matplotlib.collections.PathCollection at 0x7facd88dff10>"
      ]
     },
     "execution_count": 111,
     "metadata": {},
     "output_type": "execute_result"
    },
    {
     "data": {
      "image/png": "[encoded data removed]",
      "text/plain": [
       "<matplotlib.figure.Figure at 0x7facd89618d0>"
      ]
     },
     "metadata": {},
     "output_type": "display_data"
    }
   ],
   "source": [
    "scatter(log10(k), log10(P_k))"
   ]
  },
  {
   "cell_type": "markdown",
   "metadata": {},
   "source": [
    "How to compute the P-M.\n",
    "1. Compute the sigma.\n",
    "$\\sigma_{\\Delta}^2 = \\dfrac{4\\pi}{(2\\pi)^{3/2}} \\int k^2 P(k) |W_{k}(k)|^2$\n",
    "\n",
    "2. Normalize using: $\\sigma_8 = \\sigma_{\\Delta}(R = 8Mpc/h) = 0.813$\n",
    "\n",
    "3. Derivate to find\n",
    "\n",
    "$n(M)dM = \\sqrt{\\dfrac{2}{\\pi} }\\dfrac{\\bar{\\rho}}{m^2} \\dfrac{\\delta_c}{\\sigma_m} exp \\left [ \\dfrac{-\\delta_c}{2 \\sigma_m^2} \\right ] | \\dfrac{dln\\sigma_{m}}{dlnM}|dM$"
   ]
  },
  {
   "cell_type": "code",
   "execution_count": 145,
   "metadata": {
    "collapsed": true
   },
   "outputs": [],
   "source": [
    "# Window function W_R(x)\n",
    "\n",
    "def W(r, k):\n",
    "    Wk = 3 * (sin(k*r)- k*r*cos(k*r))/ (k*r)**3\n",
    "    return Wk\n",
    "def P_k(k):\n",
    "    n = 1.0\n",
    "    a = 6.4\n",
    "    b = 3.0\n",
    "    c = 1.7\n",
    "    nu = 1.13\n",
    "    Gamma = 0.21\n",
    "    A = 89.08\n",
    "    P = A * k**n / (1 + ( (a*k/Gamma) + (b*k/Gamma)**(3/2.) + (c*k/Gamma)**2 )**nu ) ** (1/nu)\n",
    "    return P"
   ]
  },
  {
   "cell_type": "code",
   "execution_count": 146,
   "metadata": {
    "collapsed": false
   },
   "outputs": [
    {
     "name": "stderr",
     "output_type": "stream",
     "text": [
      "/usr/local/lib/python2.7/dist-packages/IPython/kernel/__main__.py:4: RuntimeWarning: invalid value encountered in divide\n"
     ]
    }
   ],
   "source": [
    "k = linspace(0, 500, 50)\n",
    "Wk = W(10, k)"
   ]
  },
  {
   "cell_type": "code",
   "execution_count": 147,
   "metadata": {
    "collapsed": false
   },
   "outputs": [
    {
     "data": {
      "text/plain": [
       "[<matplotlib.lines.Line2D at 0x7facd86a2310>]"
      ]
     },
     "execution_count": 147,
     "metadata": {},
     "output_type": "execute_result"
    },
    {
     "data": {
      "image/png": "[encoded data removed]",
      "text/plain": [
       "<matplotlib.figure.Figure at 0x7facd87db150>"
      ]
     },
     "metadata": {},
     "output_type": "display_data"
    }
   ],
   "source": [
    "plot(Wk)"
   ]
  },
  {
   "cell_type": "code",
   "execution_count": 148,
   "metadata": {
    "collapsed": true
   },
   "outputs": [],
   "source": [
    "def sigma(x, r):\n",
    "    Pk = P_k(x)\n",
    "    Wk = W(r,x)\n",
    "    return x**2.*Pk*abs(Wk)**2"
   ]
  },
  {
   "cell_type": "code",
   "execution_count": 149,
   "metadata": {
    "collapsed": false
   },
   "outputs": [
    {
     "name": "stdout",
     "output_type": "stream",
     "text": [
      "(0.009390434915101465, 1.2963041219895872e-05)\n",
      "0.00749248303798 0.0865591302982\n",
      "9.43863457483\n"
     ]
    },
    {
     "name": "stderr",
     "output_type": "stream",
     "text": [
      "/usr/lib/python2.7/dist-packages/scipy/integrate/quadpack.py:295: UserWarning: The maximum number of subdivisions (50) has been achieved.\n",
      "  If increasing the limit yields no improvement it is advised to analyze \n",
      "  the integrand in order to determine the difficulties.  If the position of a \n",
      "  local difficulty can be determined (singularity, discontinuity) one will \n",
      "  probably gain from splitting up the interval and calling the integrator \n",
      "  on the subranges.  Perhaps a special-purpose integrator should be used.\n",
      "  warnings.warn(msg)\n"
     ]
    }
   ],
   "source": [
    "r = 8\n",
    "f = quad(sigma, 0, 1000, args=r)\n",
    "print f\n",
    "Sigmad2 =  4*pi / (2.*pi)**(3/2.) * f[0]\n",
    "Sigmad = sqrt(Sigmad2)\n",
    "print Sigmad2, Sigmad\n",
    "\n",
    "sigma8 = 0.817\n",
    "\n",
    "A =  sigma8 / Sigmad\n",
    "\n",
    "print A"
   ]
  },
  {
   "cell_type": "code",
   "execution_count": 122,
   "metadata": {
    "collapsed": false
   },
   "outputs": [
    {
     "ename": "TypeError",
     "evalue": "sigma() takes exactly 2 arguments (1 given)",
     "output_type": "error",
     "traceback": [
      "\u001b[1;31m---------------------------------------------------------------------------\u001b[0m",
      "\u001b[1;31mTypeError\u001b[0m                                 Traceback (most recent call last)",
      "\u001b[1;32m<ipython-input-122-834bc3eb09e2>\u001b[0m in \u001b[0;36m<module>\u001b[1;34m()\u001b[0m\n\u001b[0;32m      1\u001b[0m \u001b[0mr\u001b[0m \u001b[1;33m=\u001b[0m \u001b[1;36m10\u001b[0m\u001b[1;33m\u001b[0m\u001b[0m\n\u001b[1;32m----> 2\u001b[1;33m \u001b[0mderivative\u001b[0m\u001b[1;33m(\u001b[0m\u001b[0msigma\u001b[0m\u001b[1;33m,\u001b[0m \u001b[1;36m3.0\u001b[0m\u001b[1;33m,\u001b[0m \u001b[0mdx\u001b[0m\u001b[1;33m=\u001b[0m\u001b[1;36m1e-6\u001b[0m\u001b[1;33m)\u001b[0m\u001b[1;33m\u001b[0m\u001b[0m\n\u001b[0m",
      "\u001b[1;32m/usr/lib/python2.7/dist-packages/scipy/misc/common.pyc\u001b[0m in \u001b[0;36mderivative\u001b[1;34m(func, x0, dx, n, args, order)\u001b[0m\n\u001b[0;32m    403\u001b[0m     \u001b[0mho\u001b[0m \u001b[1;33m=\u001b[0m \u001b[0morder\u001b[0m \u001b[1;33m>>\u001b[0m \u001b[1;36m1\u001b[0m\u001b[1;33m\u001b[0m\u001b[0m\n\u001b[0;32m    404\u001b[0m     \u001b[1;32mfor\u001b[0m \u001b[0mk\u001b[0m \u001b[1;32min\u001b[0m \u001b[0mrange\u001b[0m\u001b[1;33m(\u001b[0m\u001b[0morder\u001b[0m\u001b[1;33m)\u001b[0m\u001b[1;33m:\u001b[0m\u001b[1;33m\u001b[0m\u001b[0m\n\u001b[1;32m--> 405\u001b[1;33m         \u001b[0mval\u001b[0m \u001b[1;33m+=\u001b[0m \u001b[0mweights\u001b[0m\u001b[1;33m[\u001b[0m\u001b[0mk\u001b[0m\u001b[1;33m]\u001b[0m\u001b[1;33m*\u001b[0m\u001b[0mfunc\u001b[0m\u001b[1;33m(\u001b[0m\u001b[0mx0\u001b[0m\u001b[1;33m+\u001b[0m\u001b[1;33m(\u001b[0m\u001b[0mk\u001b[0m\u001b[1;33m-\u001b[0m\u001b[0mho\u001b[0m\u001b[1;33m)\u001b[0m\u001b[1;33m*\u001b[0m\u001b[0mdx\u001b[0m\u001b[1;33m,\u001b[0m\u001b[1;33m*\u001b[0m\u001b[0margs\u001b[0m\u001b[1;33m)\u001b[0m\u001b[1;33m\u001b[0m\u001b[0m\n\u001b[0m\u001b[0;32m    406\u001b[0m     \u001b[1;32mreturn\u001b[0m \u001b[0mval\u001b[0m \u001b[1;33m/\u001b[0m \u001b[0mproduct\u001b[0m\u001b[1;33m(\u001b[0m\u001b[1;33m(\u001b[0m\u001b[0mdx\u001b[0m\u001b[1;33m,\u001b[0m\u001b[1;33m)\u001b[0m\u001b[1;33m*\u001b[0m\u001b[0mn\u001b[0m\u001b[1;33m,\u001b[0m\u001b[0maxis\u001b[0m\u001b[1;33m=\u001b[0m\u001b[1;36m0\u001b[0m\u001b[1;33m)\u001b[0m\u001b[1;33m\u001b[0m\u001b[0m\n\u001b[0;32m    407\u001b[0m \u001b[1;33m\u001b[0m\u001b[0m\n",
      "\u001b[1;31mTypeError\u001b[0m: sigma() takes exactly 2 arguments (1 given)"
     ]
    }
   ],
   "source": [
    "r = 10\n",
    "derivative(sigma, 3.0, dx=1e-6)"
   ]
  },
  {
   "cell_type": "code",
   "execution_count": null,
   "metadata": {
    "collapsed": true
   },
   "outputs": [],
   "source": []
  },
  {
   "cell_type": "code",
   "execution_count": 10,
   "metadata": {
    "collapsed": true
   },
   "outputs": [],
   "source": [
    "from sympy import init_printing, integrate, Symbol, exp, cos, erf, sin\n",
    "init_printing()\n",
    "x = Symbol('x')\n",
    "R = Symbol('R')\n",
    "A = Symbol('A')\n",
    "n = Symbol('n')\n",
    "a = Symbol('a')\n",
    "b = Symbol('b')\n",
    "c = Symbol('c')\n",
    "g = Symbol('g')\n",
    "m = Symbol('m')\n",
    "init_printing()"
   ]
  },
  {
   "cell_type": "code",
   "execution_count": 11,
   "metadata": {
    "collapsed": false
   },
   "outputs": [],
   "source": [
    "f = abs( 3/ (x*R) * sin(x*R) - x*R*cos(x*R) )**2 * x**2 * A * x**n / ( 1 + ( (a*x/g) + (b*x/g)**(3/2.) + (c*x/g)**2 )**m )**(1/m)"
   ]
  },
  {
   "cell_type": "code",
   "execution_count": 12,
   "metadata": {
    "collapsed": false
   },
   "outputs": [
    {
     "data": {
      "image/png": "[encoded data removed]",
      "text/latex": [
       "$$A x^{2} x^{n} \\left(\\left(\\frac{a x}{g} + \\frac{c^{2} x^{2}}{g^{2}} + \\left(\\frac{b x}{g}\\right)^{1.5}\\right)^{m} + 1\\right)^{- \\frac{1}{m}} \\left|{R x \\cos{\\left (R x \\right )} - \\frac{3}{R x} \\sin{\\left (R x \\right )}}\\right|^{2}$$"
      ],
      "text/plain": [
       "                                       -1                              \n",
       "                                       ───                             \n",
       "                                        m                              \n",
       "        ⎛                        m    ⎞                                \n",
       "        ⎜⎛       2  2        1.5⎞     ⎟                               2\n",
       "   2  n ⎜⎜a⋅x   c ⋅x    ⎛b⋅x⎞   ⎟     ⎟    │               3⋅sin(R⋅x)│ \n",
       "A⋅x ⋅x ⋅⎜⎜─── + ───── + ⎜───⎟   ⎟  + 1⎟   ⋅│R⋅x⋅cos(R⋅x) - ──────────│ \n",
       "        ⎜⎜ g       2    ⎝ g ⎠   ⎟     ⎟    │                  R⋅x    │ \n",
       "        ⎝⎝        g             ⎠     ⎠                                "
      ]
     },
     "execution_count": 12,
     "metadata": {},
     "output_type": "execute_result"
    }
   ],
   "source": [
    "f"
   ]
  }
 ],
 "metadata": {
  "kernelspec": {
   "display_name": "Python 2",
   "language": "python",
   "name": "python2"
  },
  "language_info": {
   "codemirror_mode": {
    "name": "ipython",
    "version": 2
   },
   "file_extension": ".py",
   "mimetype": "text/x-python",
   "name": "python",
   "nbconvert_exporter": "python",
   "pygments_lexer": "ipython2",
   "version": "2.7.6"
  }
 },
 "nbformat": 4,
 "nbformat_minor": 0
}
